{
 "cells": [
  {
   "cell_type": "code",
   "execution_count": 1,
   "metadata": {},
   "outputs": [],
   "source": [
    "import numpy as np\n",
    "import matplotlib.pyplot as plt\n",
    "import gurobipy as gp \n",
    "from gurobipy import GRB, quicksum\n",
    "import torch\n",
    "import functools\n",
    "\n",
    "import torch\n",
    "from torch import nn\n",
    "import torch.nn.functional as F\n",
    "from copy import deepcopy"
   ]
  },
  {
   "cell_type": "code",
   "execution_count": 4,
   "metadata": {
    "jupyter": {
     "source_hidden": true
    }
   },
   "outputs": [],
   "source": [
    "class QuadraticObj:\n",
    "    \n",
    "    def __init__(self, d=20, hidden_d=10):\n",
    "        self.dim = d\n",
    "        self.quadratic = np.random.randn(d,hidden_d)\n",
    "        self.quadratic = np.matmul(self.quadratic, self.quadratic.T)\n",
    "        self.linear = np.random.randn(d,1)\n",
    "    \n",
    "    def value_oracle(self, x):\n",
    "        x_re = x.reshape(1,self.dim)\n",
    "        obj = np.matmul(np.matmul(x_re,self.quadratic), x_re.T) + np.matmul(x_re, self.linear)\n",
    "        return obj[0][0]\n",
    "    \n",
    "    def rank_oracle(self, x_list, top = -1):\n",
    "        x_re_list = [x.reshape(1,self.dim) for x in x_list]\n",
    "        value_list = [(np.matmul(np.matmul(x_re,self.quadratic), x_re.T) + np.matmul(x_re, self.linear))[0][0] for x_re in x_re_list]\n",
    "        if top == -1:\n",
    "            return np.argsort(value_list)\n",
    "        else:\n",
    "            return np.argsort(value_list)[:top]\n",
    "        \n",
    "    def gradient_oracle(self, x):   \n",
    "        tensor_x = torch.tensor(x, requires_grad = True)\n",
    "        x_re = tensor_x.reshape(1,self.dim)\n",
    "        obj = torch.matmul(torch.matmul(x_re,torch.tensor(self.quadratic)), x_re.T) + torch.matmul(x_re, torch.tensor(self.linear))\n",
    "        obj.backward()\n",
    "        return tensor_x.grad.numpy()\n",
    "\n",
    "    \n",
    "    \n",
    "class NonConvexObj:\n",
    "    \n",
    "    def __init__(self, d=20):\n",
    "        self.dim = d\n",
    "    \n",
    "    def value_oracle(self, x):\n",
    "        x_re = x.copy()\n",
    "        obj = np.sum(100 * ((x_re[1:] - (x_re[:-1] ** 2))**2) + (1-x_re[:-1]) ** 2)\n",
    "        return obj\n",
    "    \n",
    "    def rank_oracle(self, x_list, top = -1):\n",
    "        x_re_list = [x.copy() for x in x_list]\n",
    "        value_list = [np.sum(100 * ((x_re[1:] - (x_re[:-1] ** 2))**2) + (1-x_re[:-1]) ** 2) for x_re in x_re_list]\n",
    "        if top == -1:\n",
    "            return np.argsort(value_list)\n",
    "        else:\n",
    "            return np.argsort(value_list)[:top]\n",
    "        \n",
    "    def gradient_oracle(self, x):\n",
    "        tensor_x = torch.tensor(x, requires_grad = True)\n",
    "        obj = torch.sum(100 * ((tensor_x[1:] - (tensor_x[:-1] ** 2))**2) + (1-tensor_x[:-1]) ** 2)\n",
    "        obj.backward()\n",
    "        return tensor_x.grad.numpy()"
   ]
  },
  {
   "cell_type": "markdown",
   "metadata": {},
   "source": [
    "# objective "
   ]
  },
  {
   "cell_type": "code",
   "execution_count": 6,
   "metadata": {},
   "outputs": [],
   "source": [
    "dim  = 100"
   ]
  },
  {
   "cell_type": "code",
   "execution_count": 5,
   "metadata": {},
   "outputs": [],
   "source": [
    "#objective = QuadraticObj(d=dim,hidden_d=dim//2)\n",
    "objective = NonConvexObj(d=dim)"
   ]
  },
  {
   "cell_type": "code",
   "execution_count": 7,
   "metadata": {},
   "outputs": [],
   "source": [
    "initial = np.random.randn(objective.dim)\n",
    "total_steps = 100\n",
    "reps = 10\n",
    "query_num = 10\n",
    "lr = 1\n",
    "mu = 0.1\n",
    "top = 9"
   ]
  },
  {
   "cell_type": "markdown",
   "metadata": {},
   "source": [
    "# optimization with gradient "
   ]
  },
  {
   "cell_type": "code",
   "execution_count": 8,
   "metadata": {
    "jupyter": {
     "source_hidden": true
    }
   },
   "outputs": [],
   "source": [
    "def optimize_with_gradient(objective, gradient_est_func, reps, lr, initial, total_steps):\n",
    "    \n",
    "    total_hist = []\n",
    "    for _ in range(reps):\n",
    "        x = initial.copy()\n",
    "        state_dict = {}\n",
    "        cur_obj = objective.value_oracle(x)\n",
    "        hist= [cur_obj]\n",
    "        for _ in range(total_steps):\n",
    "            grad_est, state_dict = gradient_est_func(x, state_dict)\n",
    "            x = x - lr * grad_est\n",
    "            cur_obj = objective.value_oracle(x)\n",
    "            hist.append(cur_obj)\n",
    "        total_hist.append(hist)\n",
    "    return total_hist"
   ]
  },
  {
   "cell_type": "markdown",
   "metadata": {},
   "source": [
    "### Gradient Descent"
   ]
  },
  {
   "cell_type": "code",
   "execution_count": null,
   "metadata": {
    "jupyter": {
     "source_hidden": true
    }
   },
   "outputs": [],
   "source": [
    "def fo_grad_est(x, state_dict, objective):\n",
    "    grad_est = objective.gradient_oracle(x)\n",
    "    return grad_est / np.linalg.norm(grad_est), {}\n",
    "\n",
    "gradient_est_func = functools.partial(fo_grad_est, objective = objective)\n",
    "fo_total_hist = optimize_with_gradient(objective, gradient_est_func, reps, lr, initial, total_steps)"
   ]
  },
  {
   "cell_type": "markdown",
   "metadata": {},
   "source": [
    "### Gradient estimator with value oracle"
   ]
  },
  {
   "cell_type": "code",
   "execution_count": null,
   "metadata": {
    "jupyter": {
     "source_hidden": true
    }
   },
   "outputs": [],
   "source": [
    "def zo_grad_est(x, state_dict, objective, query_num, mu):\n",
    "    grad_est = np.zeros_like(x)\n",
    "    cur_obj = objective.value_oracle(x)\n",
    "    for _ in range(query_num - 1):\n",
    "        random_d = np.random.randn(objective.dim)\n",
    "        random_d /= np.linalg.norm(random_d)\n",
    "        grad_est += (objective.value_oracle(x + mu * random_d) - cur_obj) * random_d / mu\n",
    "    return grad_est / np.linalg.norm(grad_est), {}\n",
    "\n",
    "gradient_est_func = functools.partial(zo_grad_est, objective = objective, query_num = query_num, mu = mu)\n",
    "zo_total_hist = optimize_with_gradient(objective, gradient_est_func, reps, 1, initial, total_steps)"
   ]
  },
  {
   "cell_type": "markdown",
   "metadata": {},
   "source": [
    "### Gradient estimator with comparison oracle (only work when top = query_num)"
   ]
  },
  {
   "cell_type": "code",
   "execution_count": null,
   "metadata": {
    "jupyter": {
     "source_hidden": true
    }
   },
   "outputs": [],
   "source": [
    "def zo_comp_grad_est(x, state_dict, objective, query_num, mu):\n",
    "    grad_est = np.zeros_like(x)\n",
    "    cur_obj = objective.value_oracle(x)\n",
    "    for _ in range(query_num - 1):\n",
    "        random_d = np.random.randn(objective.dim)\n",
    "        random_d /= np.linalg.norm(random_d)\n",
    "        grad_est += np.sign(objective.value_oracle(x + mu * random_d) - cur_obj) * random_d \n",
    "    return grad_est / np.linalg.norm(grad_est), {}\n",
    "        \n",
    "\n",
    "gradient_est_func = functools.partial(zo_comp_grad_est, objective = objective, query_num = query_num, mu = mu)\n",
    "zo_comp_total_hist = optimize_with_gradient(objective, gradient_est_func, reps, 1, initial, total_steps)"
   ]
  },
  {
   "cell_type": "markdown",
   "metadata": {},
   "source": [
    "### rank-based  gradient estimator v1"
   ]
  },
  {
   "cell_type": "code",
   "execution_count": null,
   "metadata": {
    "jupyter": {
     "source_hidden": true
    }
   },
   "outputs": [],
   "source": [
    "def zo_rank_v1_grad_est(x, state_dict, objective, query_num, mu, top):\n",
    "    def _grad_est_from_rank(query_list,query_rank):\n",
    "        Z = []\n",
    "        y = []\n",
    "\n",
    "        for ii, x0 in enumerate(query_rank[:-1]):\n",
    "            for jj, x1 in enumerate(query_rank[(ii+1):]):\n",
    "                now_z = query_list[x1]-query_list[x0]\n",
    "                Z.append(now_z / np.linalg.norm(now_z))\n",
    "                y.append(1)\n",
    "        if len(query_list) > len(query_rank):\n",
    "            for x0, qx0 in enumerate(query_list):\n",
    "                if x0 not in query_rank:\n",
    "                    for top_x0 in query_rank:\n",
    "                        now_z = qx0 - query_list[top_x0]\n",
    "                        Z.append(now_z / np.linalg.norm(now_z))\n",
    "                        y.append(1)\n",
    "\n",
    "        y=np.array(y)\n",
    "        Z=np.array(Z)\n",
    "        grad_est = np.matmul(y.reshape(1,-1),Z).flatten()\n",
    "    \n",
    "        return grad_est\n",
    "    \n",
    "    query_list = [x]\n",
    "    for _ in range(query_num - 1):\n",
    "        random_d = np.random.randn(objective.dim)\n",
    "        random_d /= np.linalg.norm(random_d)\n",
    "        query_list.append(x+mu * random_d)\n",
    "    query_rank = objective.rank_oracle(query_list, top)\n",
    "    grad_est = _grad_est_from_rank(query_list,query_rank)\n",
    "        \n",
    "    grad_est = grad_est / np.linalg.norm(grad_est) if np.linalg.norm(grad_est) > 1e-4 else grad_est\n",
    "        \n",
    "    return grad_est, {}\n",
    "        \n",
    "\n",
    "gradient_est_func = functools.partial(zo_rank_v1_grad_est, objective = objective, query_num = query_num, mu = mu, top = top)\n",
    "zo_rank_v1_total_hist = optimize_with_gradient(objective, gradient_est_func, reps, 1, initial, total_steps)"
   ]
  },
  {
   "cell_type": "markdown",
   "metadata": {},
   "source": [
    "### rank-based  gradient estimator v2 (only work when top = query_num)"
   ]
  },
  {
   "cell_type": "code",
   "execution_count": null,
   "metadata": {
    "jupyter": {
     "source_hidden": true
    }
   },
   "outputs": [],
   "source": [
    "def zo_rank_v2_grad_est(x, state_dict, objective, query_num, mu, top):\n",
    "    def _grad_est_from_rank(query_list,query_rank):\n",
    "        relative_rank = np.array([np.where(query_rank==ii)[0][0]+1 for ii in range(len(query_rank))])\n",
    "        weight = relative_rank - relative_rank[0]\n",
    "\n",
    "        grad_est = np.sum([(query_list[ii]-query_list[0])*weight[ii] for ii in range(1,len(query_rank))],axis=0)\n",
    "    \n",
    "        return grad_est\n",
    "    \n",
    "    query_list = [x]\n",
    "    for _ in range(query_num - 1):\n",
    "        random_d = np.random.randn(objective.dim)\n",
    "        random_d /= np.linalg.norm(random_d)\n",
    "        query_list.append(x+mu * random_d)\n",
    "    query_rank = objective.rank_oracle(query_list, top)\n",
    "    grad_est = _grad_est_from_rank(query_list,query_rank)\n",
    "        \n",
    "    return grad_est / np.linalg.norm(grad_est), state_dict\n",
    "        \n",
    "assert top == query_num\n",
    "gradient_est_func = functools.partial(zo_rank_v2_grad_est, objective = objective, query_num = query_num, mu = mu, top = top)\n",
    "zo_rank_v2_total_hist = optimize_with_gradient(objective, gradient_est_func, reps, 1, initial, total_steps)"
   ]
  },
  {
   "cell_type": "markdown",
   "metadata": {},
   "source": [
    "### rank-based  gradient estimator v3 (adding current best point)"
   ]
  },
  {
   "cell_type": "code",
   "execution_count": null,
   "metadata": {
    "jupyter": {
     "source_hidden": true
    }
   },
   "outputs": [],
   "source": [
    "def zo_rank_v3_grad_est(x, state_dict, objective, query_num, mu, top):\n",
    "    def _grad_est_from_rank(query_list,query_rank):\n",
    "        Z = []\n",
    "        y = []\n",
    "\n",
    "        for ii, x0 in enumerate(query_rank[:-1]):\n",
    "            for jj, x1 in enumerate(query_rank[(ii+1):]):\n",
    "                now_z = query_list[x1]-query_list[x0]\n",
    "                Z.append(now_z / np.linalg.norm(now_z))\n",
    "                y.append(1)\n",
    "        if len(query_list) > len(query_rank):\n",
    "            for x0, qx0 in enumerate(query_list):\n",
    "                if x0 not in query_rank:\n",
    "                    for top_x0 in query_rank:\n",
    "                        now_z = qx0 - query_list[top_x0]\n",
    "                        Z.append(now_z / np.linalg.norm(now_z))\n",
    "                        y.append(1)\n",
    "\n",
    "        y=np.array(y)\n",
    "        Z=np.array(Z)\n",
    "        grad_est = np.matmul(y.reshape(1,-1),Z).flatten()\n",
    "    \n",
    "        return grad_est\n",
    "    \n",
    "    if \"best_point\" not in state_dict:\n",
    "        state_dict[\"best_point\"] = x.copy()\n",
    "   \n",
    "    best_point = state_dict[\"best_point\"]\n",
    "    \n",
    "    query_list = [x]\n",
    "    if np.linalg.norm(x - best_point) > 1e-4:\n",
    "        query_list.append(best_point)\n",
    "    for _ in range(query_num - len(query_list)):\n",
    "        random_d = np.random.randn(objective.dim)\n",
    "        random_d /= np.linalg.norm(random_d)\n",
    "        query_list.append(x+mu * random_d)\n",
    "    query_rank = objective.rank_oracle(query_list, top)\n",
    "    grad_est = _grad_est_from_rank(query_list,query_rank)\n",
    "    state_dict[\"best_point\"] = query_list[query_rank[0]]\n",
    "        \n",
    "    grad_est = grad_est / np.linalg.norm(grad_est) if np.linalg.norm(grad_est) > 1e-4 else grad_est\n",
    "        \n",
    "    return grad_est, state_dict\n",
    "\n",
    "gradient_est_func = functools.partial(zo_rank_v3_grad_est, objective = objective, query_num = query_num, mu = mu, top = top)\n",
    "zo_rank_v3_total_hist = optimize_with_gradient(objective, gradient_est_func, reps, 1, initial, total_steps)"
   ]
  },
  {
   "cell_type": "markdown",
   "metadata": {},
   "source": [
    "### rank-based  gradient estimator v4 (replace x with new random query)"
   ]
  },
  {
   "cell_type": "code",
   "execution_count": null,
   "metadata": {
    "jupyter": {
     "source_hidden": true
    }
   },
   "outputs": [],
   "source": [
    "def zo_rank_v4_grad_est(x, state_dict, objective, query_num, mu, top):\n",
    "    def _grad_est_from_rank(query_list,query_rank):\n",
    "        Z = []\n",
    "        y = []\n",
    "\n",
    "        for ii, x0 in enumerate(query_rank[:-1]):\n",
    "            for jj, x1 in enumerate(query_rank[(ii+1):]):\n",
    "                now_z = query_list[x1]-query_list[x0]\n",
    "                Z.append(now_z / np.linalg.norm(now_z))\n",
    "                y.append(1)\n",
    "        if len(query_list) > len(query_rank):\n",
    "            for x0, qx0 in enumerate(query_list):\n",
    "                if x0 not in query_rank:\n",
    "                    for top_x0 in query_rank:\n",
    "                        now_z = qx0 - query_list[top_x0]\n",
    "                        Z.append(now_z / np.linalg.norm(now_z))\n",
    "                        y.append(1)\n",
    "\n",
    "        y=np.array(y)\n",
    "        Z=np.array(Z)\n",
    "        grad_est = np.matmul(y.reshape(1,-1),Z).flatten()\n",
    "    \n",
    "        return grad_est\n",
    "    \n",
    "    query_list = []\n",
    "    for _ in range(query_num - len(query_list)):\n",
    "        random_d = np.random.randn(objective.dim)\n",
    "        random_d /= np.linalg.norm(random_d)\n",
    "        query_list.append(x+mu * random_d)\n",
    "    query_rank = objective.rank_oracle(query_list, top)\n",
    "    grad_est = _grad_est_from_rank(query_list,query_rank)\n",
    "        \n",
    "    grad_est = grad_est / np.linalg.norm(grad_est) if np.linalg.norm(grad_est) > 1e-4 else grad_est\n",
    "        \n",
    "    return grad_est, state_dict\n",
    "        \n",
    "best_point = initial.copy()\n",
    "gradient_est_func = functools.partial(zo_rank_v4_grad_est, objective = objective, query_num = query_num, mu = mu, top = top)\n",
    "zo_rank_v4_total_hist = optimize_with_gradient(objective, gradient_est_func, reps, 1, initial, total_steps)"
   ]
  },
  {
   "cell_type": "markdown",
   "metadata": {},
   "source": [
    "### rank-based  gradient estimator v5 (v1+v3+v4)"
   ]
  },
  {
   "cell_type": "code",
   "execution_count": 9,
   "metadata": {},
   "outputs": [],
   "source": [
    "def zo_rank_v5_grad_est(x, state_dict, objective, query_num, mu, top):\n",
    "    def _grad_est_from_rank(query_list,query_rank):\n",
    "        Z = []\n",
    "        y = []\n",
    "\n",
    "        for ii, x0 in enumerate(query_rank[:-1]):\n",
    "            for jj, x1 in enumerate(query_rank[(ii+1):]):\n",
    "                now_z = query_list[x1]-query_list[x0]\n",
    "                Z.append(now_z / np.linalg.norm(now_z))\n",
    "                y.append(1)\n",
    "        if len(query_list) > len(query_rank):\n",
    "            for x0, qx0 in enumerate(query_list):\n",
    "                if x0 not in query_rank:\n",
    "                    for top_x0 in query_rank:\n",
    "                        now_z = qx0 - query_list[top_x0]\n",
    "                        Z.append(now_z / np.linalg.norm(now_z))\n",
    "                        y.append(1)\n",
    "\n",
    "        y=np.array(y)\n",
    "        Z=np.array(Z)\n",
    "        grad_est = np.matmul(y.reshape(1,-1),Z).flatten()\n",
    "    \n",
    "        return grad_est\n",
    "    \n",
    "    if \"best_point\" not in state_dict:\n",
    "        state_dict[\"best_point\"] = x.copy()\n",
    "   \n",
    "    best_point = state_dict[\"best_point\"]\n",
    "    \n",
    "    query_list = [best_point]\n",
    "    for _ in range(query_num - len(query_list)):\n",
    "        random_d = np.random.randn(objective.dim)\n",
    "        random_d /= np.linalg.norm(random_d)\n",
    "        query_list.append(x+mu * random_d)\n",
    "    query_rank = objective.rank_oracle(query_list, top)\n",
    "    grad_est = _grad_est_from_rank(query_list,query_rank)\n",
    "    state_dict[\"best_point\"] = query_list[query_rank[0]]\n",
    "        \n",
    "    grad_est = grad_est / np.linalg.norm(grad_est) if np.linalg.norm(grad_est) > 1e-4 else grad_est\n",
    "        \n",
    "    return grad_est, state_dict\n",
    "        \n",
    "gradient_est_func = functools.partial(zo_rank_v5_grad_est, objective = objective, query_num = query_num, mu = mu, top = top)\n",
    "zo_rank_v5_total_hist = optimize_with_gradient(objective, gradient_est_func, reps, 1, initial, total_steps)"
   ]
  },
  {
   "cell_type": "markdown",
   "metadata": {},
   "source": [
    "# optimization without gradient "
   ]
  },
  {
   "cell_type": "code",
   "execution_count": 11,
   "metadata": {
    "jupyter": {
     "source_hidden": true
    }
   },
   "outputs": [],
   "source": [
    "def optimize_without_gradient(objective, update_func, reps, initial, total_steps):\n",
    "    total_hist = []\n",
    "    global best_point\n",
    "    for _ in range(reps):\n",
    "        x = initial.copy()\n",
    "        state_dict = {}\n",
    "        cur_obj = objective.value_oracle(x)\n",
    "        hist= [cur_obj]\n",
    "        for _ in range(total_steps):\n",
    "            x, state_dict = update_func(x, state_dict)\n",
    "            cur_obj = objective.value_oracle(x)\n",
    "            hist.append(cur_obj)\n",
    "        total_hist.append(hist)\n",
    "    return total_hist"
   ]
  },
  {
   "cell_type": "markdown",
   "metadata": {},
   "source": [
    "### GLD"
   ]
  },
  {
   "cell_type": "code",
   "execution_count": null,
   "metadata": {
    "jupyter": {
     "source_hidden": true
    }
   },
   "outputs": [],
   "source": [
    "def gld_update_func(x, state_dict, objective, query_num, mu):\n",
    "    grad_est = np.zeros_like(x)\n",
    "    cur_obj = objective.value_oracle(x)\n",
    "    best_point = x.copy()\n",
    "    for _ in range(query_num - 1):\n",
    "        random_d = np.random.randn(objective.dim)\n",
    "        random_d /= np.linalg.norm(random_d)\n",
    "        query_point = x + mu * random_d\n",
    "        query_value = objective.value_oracle(query_point)\n",
    "        if query_value < cur_obj:\n",
    "            cur_obj = query_value\n",
    "            best_point = query_point\n",
    "        mu /= 2\n",
    "    return best_point, state_dict\n",
    "\n",
    "update_func = functools.partial(gld_update_func, objective = objective, query_num = query_num, mu = 0.4)\n",
    "gld_total_hist = optimize_without_gradient(objective, update_func, reps, initial, total_steps)"
   ]
  },
  {
   "cell_type": "markdown",
   "metadata": {},
   "source": [
    "### Heuristic v1"
   ]
  },
  {
   "cell_type": "code",
   "execution_count": null,
   "metadata": {
    "jupyter": {
     "source_hidden": true
    }
   },
   "outputs": [],
   "source": [
    "def heuristic_update_func(x, state_dict, objective, query_num, mu, top):\n",
    "    query_list = []\n",
    "    for _ in range(query_num):\n",
    "        random_d = np.random.randn(objective.dim)\n",
    "        query_list.append(x+mu * random_d)\n",
    "    query_rank = objective.rank_oracle(query_list, top)\n",
    "    updated_point = np.zeros_like(x)\n",
    "    acc_weight = 0\n",
    "    for r, p in enumerate(query_rank):\n",
    "        w = len(query_rank) - r\n",
    "        acc_weight += w\n",
    "        updated_point += w * query_list[p]\n",
    "    updated_point /= acc_weight\n",
    "    \n",
    "    return updated_point, state_dict\n",
    "\n",
    "update_func = functools.partial(heuristic_update_func, objective = objective, query_num = query_num, mu = 0.2, top = min([3,top]))\n",
    "heuristic_total_hist = optimize_without_gradient(objective, update_func, reps, initial, total_steps)"
   ]
  },
  {
   "cell_type": "markdown",
   "metadata": {},
   "source": [
    "### Heuristic v2 with progress monitoring"
   ]
  },
  {
   "cell_type": "code",
   "execution_count": 12,
   "metadata": {},
   "outputs": [],
   "source": [
    "def heuristic_v2_update_func(x, state_dict, objective, query_num, mu, top):\n",
    "    if \"best_point\" not in state_dict:\n",
    "        state_dict[\"best_point\"] = x.copy()\n",
    "   \n",
    "    best_point = state_dict[\"best_point\"]\n",
    "    \n",
    "    query_list = [best_point]\n",
    "    for _ in range(query_num - len(query_list)):\n",
    "        random_d = np.random.randn(objective.dim)\n",
    "        query_list.append(x+mu * random_d)\n",
    "    query_rank = objective.rank_oracle(query_list, top)\n",
    "    updated_point = np.zeros_like(x)\n",
    "    acc_weight = 0\n",
    "    for r, p in enumerate(query_rank):\n",
    "        w = len(query_rank) - r\n",
    "        acc_weight += w\n",
    "        updated_point += w * query_list[p]\n",
    "    updated_point /= acc_weight\n",
    "    \n",
    "    state_dict[\"best_point\"] = query_list[query_rank[0]]\n",
    "    \n",
    "    return updated_point, state_dict\n",
    "\n",
    "update_func = functools.partial(heuristic_v2_update_func, objective = objective, query_num = query_num , mu = 0.2, top = min([3,top]))\n",
    "heuristic_v2_total_hist = optimize_without_gradient(objective, update_func, reps, initial, total_steps)"
   ]
  },
  {
   "cell_type": "markdown",
   "metadata": {},
   "source": [
    "### CMA-ES"
   ]
  },
  {
   "cell_type": "code",
   "execution_count": null,
   "metadata": {
    "jupyter": {
     "source_hidden": true
    }
   },
   "outputs": [],
   "source": [
    "from cma import CMAEvolutionStrategy\n",
    "\n",
    "es_total_hist = []\n",
    "for _ in range(reps):\n",
    "    es = CMAEvolutionStrategy(list(initial), mu, {'popsize':query_num})\n",
    "    es_hist= []\n",
    "    for _ in range(total_steps):\n",
    "        solutions = es.ask()\n",
    "        values = [objective.value_oracle(np.array(x)) for x in solutions]\n",
    "        es_hist.append(np.min(values))\n",
    "        es.tell(solutions, values)\n",
    "    es_total_hist.append(es_hist)"
   ]
  },
  {
   "cell_type": "markdown",
   "metadata": {},
   "source": [
    "# online optimization with rank model"
   ]
  },
  {
   "cell_type": "markdown",
   "metadata": {},
   "source": [
    "### utils"
   ]
  },
  {
   "cell_type": "code",
   "execution_count": 13,
   "metadata": {
    "jupyter": {
     "source_hidden": true
    }
   },
   "outputs": [],
   "source": [
    "class TopK_custom(torch.nn.Module):\n",
    "    def __init__(self, k, device, epsilon=0.1, max_iter = 200):\n",
    "        super(TopK_custom, self).__init__()\n",
    "        self.k = k\n",
    "        self.epsilon = epsilon\n",
    "        self.anchors = torch.FloatTensor([i for i in range(k+1)]).view([1,1, k+1]).to(device)\n",
    "        self.max_iter = max_iter\n",
    "        self.device = device\n",
    "        \n",
    "\n",
    "    def forward(self, scores):\n",
    "        device = self.device\n",
    "        \n",
    "        bs, n = scores.size()\n",
    "        scores = scores.view([bs, n, 1])\n",
    "        \n",
    "        #find the -inf value and replace it with the minimum value except -inf\n",
    "        scores_ = scores.clone().detach()\n",
    "        max_scores = torch.max(scores_).detach()\n",
    "        scores_[scores_==float('-inf')] = float('inf')\n",
    "        min_scores = torch.min(scores_).detach()\n",
    "        filled_value = min_scores - (max_scores-min_scores)\n",
    "        mask = scores==float('-inf')\n",
    "        scores.masked_fill(mask, filled_value)\n",
    "        \n",
    "        C = (scores-self.anchors)**2\n",
    "        C = C / (C.max().detach())\n",
    "        \n",
    "        mu = torch.ones([1, n, 1], requires_grad=False).to(device)\n",
    "        nu = [1 for _ in range(self.k)]\n",
    "        nu.append((n-self.k))\n",
    "        nu = torch.FloatTensor(nu).view([1,1,self.k+1]).to(device)\n",
    "\n",
    "            \n",
    "        Gamma = TopKFunc.apply(C, mu, nu, self.epsilon, self.max_iter)\n",
    "        \n",
    "        return Gamma.transpose(-1,-2)\n",
    "\n",
    "\n",
    "\n",
    "class TopKFunc(torch.autograd.Function):\n",
    "    @staticmethod\n",
    "    def forward(ctx, C, mu, nu, epsilon, max_iter):\n",
    "        bs, n, k_ = C.size()\n",
    "        device = C.get_device()\n",
    "        with torch.no_grad():\n",
    "            f = torch.zeros([bs, n, 1]).to(device)\n",
    "            g = torch.zeros([bs, 1, k_]).to(device)\n",
    "            Gamma_old = torch.exp((-C+f+g)/epsilon)\n",
    "            \n",
    "            def min_epsilon_row(Z, epsilon):\n",
    "                return -epsilon*torch.logsumexp((-C+f+g)/epsilon, -1, keepdim=True)\n",
    "            \n",
    "            def min_epsilon_col(Z, epsilon):\n",
    "                return -epsilon*torch.logsumexp((-C+f+g)/epsilon, -2, keepdim=True)\n",
    "    \n",
    "            for i in range(max_iter):\n",
    "                \n",
    "                f = min_epsilon_row(C-f-g, epsilon)+f+epsilon*torch.log(mu)\n",
    "                g = min_epsilon_col(C-f-g, epsilon)+ g +epsilon*torch.log(nu)\n",
    "                \n",
    "                Gamma = torch.exp((-C+f+g)/epsilon)\n",
    "                \n",
    "                Gamma_diff = torch.norm((Gamma-Gamma_old) / bs / n/ k_,\"fro\")\n",
    "#                 nu_cond = torch.norm((torch.matmul(Gamma.permute(0,2,1),mu[0,:,:]).permute(0,2,1) - nu) / bs,\"fro\")\n",
    "#                 mu_cond = torch.norm((torch.matmul(Gamma,nu.view(k_,1)) - mu) / bs,\"fro\")\n",
    "                \n",
    "\n",
    "                if (Gamma_diff < 1e-5):\n",
    "                    #print(\"stop at \",i,\" step\")\n",
    "                    break\n",
    "                \n",
    "                Gamma_old = Gamma\n",
    " \n",
    "        \n",
    "            ctx.save_for_backward(mu, nu, Gamma)\n",
    "            ctx.epsilon = epsilon      \n",
    "        return Gamma\n",
    "\n",
    "    @staticmethod\n",
    "    def backward(ctx, grad_output_Gamma):\n",
    "        \n",
    "        \n",
    "        epsilon = ctx.epsilon\n",
    "        mu, nu, Gamma = ctx.saved_tensors\n",
    "        # mu [1, n, 1]\n",
    "        # nu [1, 1, k+1]\n",
    "        #Gamma [bs, n, k+1]\n",
    "                  \n",
    "        device = Gamma.get_device()\n",
    "        with torch.no_grad():\n",
    "            nu_ = nu[:,:,:-1]\n",
    "            Gamma_ = Gamma[:,:,:-1]\n",
    "    \n",
    "            bs, n, k_ = Gamma.size()\n",
    "            \n",
    "            inv_mu = 1./(mu.view([1,-1]))  #[1, n]\n",
    "            Kappa = torch.diag_embed(nu_.squeeze(-2)) \\\n",
    "                    -torch.matmul(Gamma_.transpose(-1, -2) * inv_mu.unsqueeze(-2), Gamma_)   #[bs, k, k]\n",
    "            #print(Kappa, Gamma_)\n",
    "            padding_value = 1e-10\n",
    "            ridge = torch.ones([bs, k_-1]).diag_embed().to(device)\n",
    "            inv_Kappa = torch.inverse(Kappa+ridge*padding_value) #[bs, k, k]\n",
    "            #print(Kappa, inv_Kappa) \n",
    "            mu_Gamma_Kappa = (inv_mu.unsqueeze(-1)*Gamma_).matmul(inv_Kappa) #[bs, n, k]\n",
    "            H1 = inv_mu.diag_embed() + mu_Gamma_Kappa.matmul(Gamma_.transpose(-1, -2))*inv_mu.unsqueeze(-2) #[bs, n, n]\n",
    "            H2 = - mu_Gamma_Kappa  #[bs, n, k]\n",
    "            H3 = H2.transpose(-1,-2) #[bs, k, n]\n",
    "            H4 = inv_Kappa #[bs, k, k]\n",
    "    \n",
    "            H2_pad = F.pad(H2, pad=(0, 1), mode='constant', value=0) \n",
    "            H4_pad = F.pad(H4, pad=(0, 1), mode='constant', value=0)\n",
    "            grad_f_C =  H1.unsqueeze(-1)*Gamma.unsqueeze(-3) \\\n",
    "                       + H2_pad.unsqueeze(-2)*Gamma.unsqueeze(-3) #[bs, n, n, k+1]\n",
    "            grad_g_C =  H3.unsqueeze(-1)*Gamma.unsqueeze(-3) \\\n",
    "                       + H4_pad.unsqueeze(-2)*Gamma.unsqueeze(-3) #[bs, k, n, k+1]\n",
    "    \n",
    "            grad_g_C_pad = F.pad(grad_g_C, pad=(0, 0, 0, 0, 0, 1), mode='constant', value=0)\n",
    "            grad_C1 = grad_output_Gamma * Gamma\n",
    "            grad_C2 = torch.sum(grad_C1.view([bs, n, k_, 1, 1])*grad_f_C.unsqueeze(-3), dim=(1,2))\n",
    "            grad_C3 = torch.sum(grad_C1.view([bs, n, k_, 1, 1])*grad_g_C_pad.unsqueeze(-4), dim=(1,2))\n",
    "    \n",
    "            grad_C = (-grad_C1+grad_C2+grad_C3)/epsilon\n",
    "                   \n",
    "        return grad_C, None, None, None, None\n",
    "    \n",
    "class Net_sigmoid(nn.Module):\n",
    "    \n",
    "    def __init__(self, dim):\n",
    "        super(Net_sigmoid, self).__init__()\n",
    "        # First fully connected layer\n",
    "        self.dim = dim\n",
    "        self.fc1 = nn.Linear(dim, 256)\n",
    "        # Second fully connected layer that outputs our 10 labels\n",
    "        self.fc2 = nn.Linear(256, 128)\n",
    "        self.fc3 = nn.Linear(128, 1)\n",
    "        \n",
    "    def forward(self, x):\n",
    "        # Pass data through fc1\n",
    "        bz, qn, dim = x.shape\n",
    "        out = self.fc1(x.view(-1,dim))\n",
    "        out = torch.relu(out)\n",
    "        out = self.fc2(out)\n",
    "        out = torch.relu(out)\n",
    "        out = self.fc3(out)\n",
    "\n",
    "        # Apply softmax to x\n",
    "        out = torch.sigmoid(out)\n",
    "        return out.view(bz,-1)"
   ]
  },
  {
   "cell_type": "markdown",
   "metadata": {},
   "source": [
    "### main function "
   ]
  },
  {
   "cell_type": "code",
   "execution_count": 31,
   "metadata": {},
   "outputs": [],
   "source": [
    "def check_test_acc(model,x_test_data,rank_test_data):\n",
    "    device = next(model.parameters()).device\n",
    "\n",
    "    with torch.no_grad():\n",
    "        est_test = model(x_test_data.to(device)).cpu().numpy()\n",
    "    est_rank = np.apply_along_axis(lambda x: np.argsort(x)[:topk],1,est_test)\n",
    "    \n",
    "    acc = np.mean(rank_test_data == est_rank) * 100\n",
    "\n",
    "    return acc\n",
    "\n",
    "def fit_rank(model,x_data,perm_data,x_test_data,rank_test_data, epoch = 100, batchsize = 8, lr = 0.001, tol = 5, plot = True):\n",
    "    data_len = x_data.shape[0]\n",
    "    optimizer = torch.optim.Adam(model.parameters(), lr=lr)\n",
    "    loss_fn = torch.nn.MSELoss(reduction='mean')\n",
    "    device = x_data.get_device()\n",
    "    soft_sorted_topk = TopK_custom(perm_data.shape[1] - 1, device, epsilon=0.01, max_iter = 200)\n",
    "    avg_loss = 0\n",
    "    total_num = 0 \n",
    "    \n",
    "    best = 0\n",
    "    no_improve_ep = 0\n",
    "    best_model = None\n",
    "    for ep in range(epoch):\n",
    "        no_improve_ep += 1\n",
    "        for batch_ind in index_iterator(data_len,batchsize):\n",
    "            optimizer.zero_grad()\n",
    "            scores = model(x_data[batch_ind])\n",
    "            perm_mat = soft_sorted_topk(scores)\n",
    "            loss = loss_fn(perm_mat, perm_data[batch_ind])\n",
    "            loss.backward()\n",
    "            optimizer.step()\n",
    "            avg_loss += loss.item() * len(batch_ind)\n",
    "            total_num += len(batch_ind)\n",
    "            \n",
    "        acc = check_model(model,f,x_test_data,rank_test_data,False)\n",
    "        \n",
    "        \n",
    "        \n",
    "        print(ep,avg_loss/total_num,acc)\n",
    "        if ep % 10 == 0:\n",
    "            check_model(model,f,x_test_data,rank_test_data, plot)\n",
    "            \n",
    "        if acc > best:\n",
    "            best = acc\n",
    "            no_improve_ep = 0\n",
    "            best_model = deepcopy(model.state_dict())\n",
    "            \n",
    "        if no_improve_ep > tol:\n",
    "            break\n",
    "            \n",
    "    return best_model\n",
    "\n",
    "\n",
    "\n",
    "def generate_query_from_rank_model(x, state_dict, query_num, mu, num_candidates = 100, normalized = True):\n",
    "    if \"best_point\" not in state_dict:\n",
    "        state_dict[\"best_point\"] = x.copy()\n",
    "   \n",
    "    best_point = state_dict[\"best_point\"]\n",
    "    query_list = [best_point]\n",
    "    \n",
    "    if \"rank_model\" not in state_dict:\n",
    "        for _ in range(query_num - len(query_list)):\n",
    "            random_d = np.random.randn(objective.dim)\n",
    "            if normalized:\n",
    "                random_d /= np.linalg.norm(random_d)\n",
    "            query_list.append(x+mu * random_d)\n",
    "    else:\n",
    "        pass\n",
    "    \n",
    "    return query_list\n",
    "   \n",
    "def constuct_perm(rank_data, query_num):\n",
    "\n",
    "    perm_mat = np.zeros((len(rank_data) + 1, query_num))\n",
    "    for jj in range(query_num):\n",
    "        if jj in rank_data:\n",
    "            now_ind = np.where(rank_data == jj)[0][0]\n",
    "            perm_mat[now_ind,jj] = 1\n",
    "        else:\n",
    "            perm_mat[len(rank_data),jj] = 1\n",
    "    \n",
    "    return torch.FloatTensor(perm_mat[np.newaxis,...])  \n",
    "    \n",
    "def construct_train_test_data(query_list, query_rank, whether_to_select_test_data):\n",
    "    test_data = []\n",
    "    if whether_to_select_test_data:\n",
    "        select_num = min([1,round(0.1 * len(query_list))])\n",
    "        select_test_ind = np.random.choice(np.arange(len(query_list)),select_num,replace=False)\n",
    "        worst_inds = [ind for ind in range(len(query_list)) if ind not in query_rank]\n",
    "    else:\n",
    "        select_test_ind = []\n",
    "        \n",
    "    for st_ind in select_test_ind:\n",
    "        if st_ind in query_rank:\n",
    "            for w_ind in worst_inds:\n",
    "                test_data.append((query_list[st_ind],query_list[w_ind]))\n",
    "\n",
    "        reverse = False\n",
    "        for q_ind in query_rank:\n",
    "\n",
    "            if q_ind == st_ind:\n",
    "                reverse = True\n",
    "                continue\n",
    "\n",
    "            if reverse:\n",
    "                test_data.append((torch.FloatTensor(query_list[st_ind]).unsqueeze(0),torch.FloatTensor(query_list[q_ind]).unsqueeze(0)))\n",
    "            else:\n",
    "                test_data.append((torch.FloatTensor(query_list[q_ind]).unsqueeze(0),torch.FloatTensor(query_list[st_ind]).unsqueeze(0)))\n",
    "\n",
    "    query_rank = [q_ind - len([s_ind for s_ind in select_test_ind if s_ind < q_ind]) for q_ind in query_rank if q_ind not in select_test_ind]\n",
    "    query_rank = np.array(query_rank)\n",
    "    \n",
    "    train_data = np.array([p for p_ind, p in enumerate(query_list) if p_ind not in select_test_ind])\n",
    "    train_data = torch.FloatTensor(train_data).unsqueeze(0)\n",
    "    train_perm = constuct_perm(query_rank, len(query_list))\n",
    "    \n",
    "    return train_data, train_perm, test_data\n",
    "      \n",
    "        \n",
    "def update_data_and_rank_model(state_dict, query_list, query_rank):\n",
    "    \n",
    "    if \"train_x\" not in state_dict:\n",
    "        train_x, train_perm, test_data = construct_train_test_data(query_list, query_rank, False)\n",
    "        state_dict[\"train_x\"] = [train_x]\n",
    "        state_dict[\"train_perm\"] = [train_perm]\n",
    "        state_dict[\"test_data\"] = test_data\n",
    "    else:\n",
    "        whether_to_select_test_data = np.random.randint(2)\n",
    "        train_x, train_perm, test_data = construct_train_test_data(query_list, query_rank, whether_to_select_test_data)\n",
    "        state_dict[\"train_x\"].append(train_x)\n",
    "        state_dict[\"train_perm\"].append(train_perm)\n",
    "        state_dict[\"test_data\"].extend(test_data)\n",
    "        \n",
    "    \n",
    "    \n",
    "        \n",
    "    \n",
    "    return state_dict\n"
   ]
  },
  {
   "cell_type": "markdown",
   "metadata": {},
   "source": [
    "### rank-based  gradient estimator v5 + rank model"
   ]
  },
  {
   "cell_type": "code",
   "execution_count": 113,
   "metadata": {
    "jupyter": {
     "source_hidden": true
    }
   },
   "outputs": [
    {
     "data": {
      "text/plain": [
       "array([1, 2])"
      ]
     },
     "execution_count": 113,
     "metadata": {},
     "output_type": "execute_result"
    }
   ],
   "source": []
  },
  {
   "cell_type": "markdown",
   "metadata": {},
   "source": [
    "### Heuristic v2 + rank model"
   ]
  },
  {
   "cell_type": "code",
   "execution_count": 32,
   "metadata": {},
   "outputs": [],
   "source": [
    "def heuristic_v2_with_rank_model_update_func(x, state_dict, objective, query_num, mu, top):\n",
    "    \n",
    "    query_list = generate_query_from_rank_model(x, state_dict, query_num, mu, normalized = False)\n",
    "    \n",
    "    query_rank = objective.rank_oracle(query_list, top)\n",
    "    updated_point = np.zeros_like(x)\n",
    "    acc_weight = 0\n",
    "    for r, p in enumerate(query_rank):\n",
    "        w = len(query_rank) - r\n",
    "        acc_weight += w\n",
    "        updated_point += w * query_list[p]\n",
    "    updated_point /= acc_weight\n",
    "    \n",
    "    state_dict[\"best_point\"] = query_list[query_rank[0]]\n",
    "    \n",
    "    state_dict = update_data_and_rank_model(state_dict, query_list, query_rank)\n",
    "    \n",
    "    return updated_point, state_dict\n",
    "\n",
    "update_func = functools.partial(heuristic_v2_with_rank_model_update_func, objective = objective, query_num = query_num, mu = 0.2, top = min([3,top]))\n",
    "heuristic_v2_with_rank_model_total_hist = optimize_without_gradient(objective, update_func, reps, initial, total_steps)"
   ]
  },
  {
   "cell_type": "markdown",
   "metadata": {},
   "source": [
    "# plot"
   ]
  },
  {
   "cell_type": "code",
   "execution_count": null,
   "metadata": {
    "jupyter": {
     "source_hidden": true
    }
   },
   "outputs": [],
   "source": [
    "def plot_hist(total_hist, label):\n",
    "    total_hist = np.array(total_hist)\n",
    "    total_mean = total_hist.mean(0)\n",
    "    total_std = total_hist.std(0)\n",
    "    plt.plot(total_mean,\"--\", label = label)\n",
    "    total_steps = np.arange(len(total_mean))\n",
    "    plt.fill_between(total_steps,total_mean - total_std,total_mean + total_std, alpha=0.3)"
   ]
  },
  {
   "cell_type": "code",
   "execution_count": 52,
   "metadata": {},
   "outputs": [
    {
     "data": {
      "text/plain": [
       "<matplotlib.legend.Legend at 0x7f3830cae730>"
      ]
     },
     "execution_count": 52,
     "metadata": {},
     "output_type": "execute_result"
    },
    {
     "data": {
      "image/png": "[encoded data removed]",
      "text/plain": [
       "<Figure size 1800x864 with 1 Axes>"
      ]
     },
     "metadata": {
      "needs_background": "light"
     },
     "output_type": "display_data"
    }
   ],
   "source": [
    "plt.figure(figsize=(25,12))\n",
    "\n",
    "# plot_hist(fo_total_hist,\"fo\")\n",
    "# plot_hist(zo_total_hist,\"zo\")\n",
    "# plot_hist(zo_comp_total_hist,\"zo_comp\")\n",
    "# plot_hist(zo_rank_v1_total_hist,\"zo_rank_v1\")\n",
    "# plot_hist(zo_rank_v2_total_hist,\"zo_rank_v2\")\n",
    "# plot_hist(zo_rank_v3_total_hist,\"zo_rank_v3\")\n",
    "# plot_hist(zo_rank_v4_total_hist,\"zo_rank_v4\")\n",
    "# plot_hist(zo_rank_v5_total_hist,\"zo_rank_v5\")\n",
    "\n",
    "# plot_hist(gld_total_hist,\"GLD\")\n",
    "#plot_hist(heuristic_total_hist,\"heuristic\")\n",
    "plot_hist(heuristic_v2_total_hist,\"heuristic_v2\")\n",
    "#plot_hist(es_total_hist,\"CMA-ES\")\n",
    "\n",
    "plot_hist(heuristic_v2_with_rank_model_total_hist,\"heuristic_v2_wr\")\n",
    "\n",
    "plt.legend()"
   ]
  }
 ],
 "metadata": {
  "kernelspec": {
   "display_name": "gradattack",
   "language": "python",
   "name": "gradattack"
  },
  "language_info": {
   "codemirror_mode": {
    "name": "ipython",
    "version": 3
   },
   "file_extension": ".py",
   "mimetype": "text/x-python",
   "name": "python",
   "nbconvert_exporter": "python",
   "pygments_lexer": "ipython3",
   "version": "3.8.12"
  }
 },
 "nbformat": 4,
 "nbformat_minor": 4
}
