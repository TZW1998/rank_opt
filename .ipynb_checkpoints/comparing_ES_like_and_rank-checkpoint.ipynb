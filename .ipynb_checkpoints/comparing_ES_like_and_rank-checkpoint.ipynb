{
 "cells": [
  {
   "cell_type": "code",
   "execution_count": 1,
   "metadata": {},
   "outputs": [],
   "source": [
    "import numpy as np\n",
    "import matplotlib.pyplot as plt\n",
    "import gurobipy as gp \n",
    "from gurobipy import GRB, quicksum\n",
    "import torch"
   ]
  },
  {
   "cell_type": "code",
   "execution_count": 2,
   "metadata": {},
   "outputs": [],
   "source": [
    "class QuadraticObj:\n",
    "    \n",
    "    def __init__(self, d=20, hidden_d=10):\n",
    "        self.dim = d\n",
    "        self.quadratic = np.random.randn(d,hidden_d)\n",
    "        self.quadratic = np.matmul(self.quadratic, self.quadratic.T)\n",
    "        self.linear = np.random.randn(d,1)\n",
    "    \n",
    "    def value_oracle(self, x):\n",
    "        x_re = x.reshape(1,self.dim)\n",
    "        obj = np.matmul(np.matmul(x_re,self.quadratic), x_re.T) + np.matmul(x_re, self.linear)\n",
    "        return obj[0][0]\n",
    "    \n",
    "    def rank_oracle(self, x_list, top = -1):\n",
    "        x_re_list = [x.reshape(1,self.dim) for x in x_list]\n",
    "        value_list = [(np.matmul(np.matmul(x_re,self.quadratic), x_re.T) + np.matmul(x_re, self.linear))[0][0] for x_re in x_re_list]\n",
    "        if top == -1:\n",
    "            return np.argsort(value_list)\n",
    "        else:\n",
    "            return np.argsort(value_list)[:top]\n",
    "        \n",
    "    def gradient_oracle(self, x):   \n",
    "        tensor_x = torch.tensor(x, requires_grad = True)\n",
    "        x_re = tensor_x.reshape(1,self.dim)\n",
    "        obj = torch.matmul(torch.matmul(x_re,torch.tensor(self.quadratic)), x_re.T) + torch.matmul(x_re, torch.tensor(self.linear))\n",
    "        obj.backward()\n",
    "        return tensor_x.grad.numpy()\n",
    "\n",
    "    \n",
    "    \n",
    "class NonConvexObj:\n",
    "    \n",
    "    def __init__(self, d=20):\n",
    "        self.dim = d\n",
    "    \n",
    "    def value_oracle(self, x):\n",
    "        x_re = x.copy()\n",
    "        obj = np.sum(100 * ((x_re[1:] - (x_re[:-1] ** 2))**2) + (1-x_re[:-1]) ** 2)\n",
    "        return obj\n",
    "    \n",
    "    def rank_oracle(self, x_list, top = -1):\n",
    "        x_re_list = [x.copy() for x in x_list]\n",
    "        value_list = [np.sum(100 * ((x_re[1:] - (x_re[:-1] ** 2))**2) + (1-x_re[:-1]) ** 2) for x_re in x_re_list]\n",
    "        if top == -1:\n",
    "            return np.argsort(value_list)\n",
    "        else:\n",
    "            return np.argsort(value_list)[:top]\n",
    "        \n",
    "    def gradient_oracle(self, x):\n",
    "        tensor_x = torch.tensor(x, requires_grad = True)\n",
    "        obj = torch.sum(100 * ((tensor_x[1:] - (tensor_x[:-1] ** 2))**2) + (1-tensor_x[:-1]) ** 2)\n",
    "        obj.backward()\n",
    "        return tensor_x.grad.numpy()"
   ]
  },
  {
   "cell_type": "code",
   "execution_count": 3,
   "metadata": {},
   "outputs": [],
   "source": [
    "dim  = 100"
   ]
  },
  {
   "cell_type": "code",
   "execution_count": 4,
   "metadata": {},
   "outputs": [],
   "source": [
    "objective = QuadraticObj(d=dim,hidden_d=dim//2)"
   ]
  },
  {
   "cell_type": "code",
   "execution_count": 175,
   "metadata": {},
   "outputs": [],
   "source": [
    "objective = NonConvexObj(d=dim)"
   ]
  },
  {
   "cell_type": "code",
   "execution_count": 176,
   "metadata": {},
   "outputs": [],
   "source": [
    "initial = np.random.randn(objective.dim)\n",
    "total_steps = 100\n",
    "reps = 10\n",
    "line_search = 4\n",
    "query_num = 10"
   ]
  },
  {
   "cell_type": "code",
   "execution_count": 177,
   "metadata": {},
   "outputs": [],
   "source": [
    "# rank-based optimization\n",
    "def grad_est_from_rank(query_list,query_rank,sparsity = 10,mu = 0.1,with_order = True):\n",
    "    relative_rank = np.array([np.where(query_rank==ii)[0][0]+1 for ii in range(len(query_rank))])\n",
    "    weight = np.zeros(len(query_list))\n",
    "    if with_order:\n",
    "        for ii, x0 in enumerate(query_rank[:-1]):\n",
    "            for jj, x1 in enumerate(query_rank[(ii+1):]):\n",
    "                now_z = query_list[x1]-query_list[x0]\n",
    "                weight[x1] += 1\n",
    "                weight[x0] -= 1\n",
    "\n",
    "\n",
    "    grad_est = np.sum([(query_list[ii]-query_list[0])*weight[ii] for ii in range(1,len(query_rank))],axis=0)\n",
    "    return grad_est/np.linalg.norm(grad_est)\n",
    "\n",
    "# def grad_est_from_rank(query_list,query_rank,sparsity = 10,mu = 0.1,with_order = True):\n",
    "#     Z = []\n",
    "#     y = []\n",
    "#     if with_order:\n",
    "#         for ii, x0 in enumerate(query_rank[:-1]):\n",
    "#             for jj, x1 in enumerate(query_rank[(ii+1):]):\n",
    "#                 now_z = query_list[x1]-query_list[x0]\n",
    "#                 Z.append(now_z)\n",
    "#                 y.append(1)\n",
    "#     if len(query_list) > len(query_rank):\n",
    "#         for x0, qx0 in enumerate(query_list):\n",
    "#             if x0 not in query_rank:\n",
    "#                 for top_x0 in query_rank:\n",
    "#                     now_z = qx0 - query_list[top_x0]\n",
    "#                     Z.append(now_z)\n",
    "#                     y.append(1)\n",
    "    \n",
    "#     y=np.array(y)\n",
    "#     Z=np.array(Z)\n",
    "#     #print(Z.shape)\n",
    "#     #grad_est = Solve1BitCS(y,Z,Z.shape[0],Z.shape[1],sparsity)\n",
    "#     grad_est = np.matmul(y.reshape(1,-1),Z).flatten()\n",
    "#     return grad_est/np.linalg.norm(grad_est)\n",
    "\n",
    "total_zo_rank_hist = []\n",
    "\n",
    "zo_rank_grad_hist = []\n",
    "\n",
    "for _ in range(reps):\n",
    "    x = initial.copy()\n",
    "    cur_obj = objective.value_oracle(x)\n",
    "    top = query_num + 1\n",
    "    mu = 0.1\n",
    "    sparsity =10000\n",
    "    lr = 1\n",
    "    zo_rank_hist= []\n",
    "\n",
    "    with_order = True\n",
    "\n",
    "    for _ in range(total_steps):\n",
    "        query_list = [x]\n",
    "        for _ in range(query_num):\n",
    "            random_d = np.random.randn(objective.dim)\n",
    "            random_d /= np.linalg.norm(random_d)\n",
    "            query_list.append(x+mu * random_d)\n",
    "        query_rank = objective.rank_oracle(query_list, top)\n",
    "        grad_est = grad_est_from_rank(query_list,query_rank,sparsity,mu,with_order)\n",
    "        \n",
    "        true_grad = objective.gradient_oracle(query_list[query_rank[0]])\n",
    "        true_grad /= np.linalg.norm(true_grad)\n",
    "        zo_rank_grad_hist.append(np.dot(grad_est,true_grad))\n",
    "        \n",
    "        \n",
    "        if line_search > 0:\n",
    "            line_search_candidates = [query_list[query_rank[0]] - lr * scale * grad_est for scale in lr / np.power(2, np.arange(line_search))]\n",
    "            x = line_search_candidates[objective.rank_oracle(line_search_candidates)[0]]\n",
    "        else:\n",
    "            x = query_list[query_rank[0]] - lr * grad_est\n",
    "        cur_obj = objective.value_oracle(x)\n",
    "        zo_rank_hist.append(cur_obj)\n",
    "    total_zo_rank_hist.append(zo_rank_hist)"
   ]
  },
  {
   "cell_type": "code",
   "execution_count": 185,
   "metadata": {},
   "outputs": [],
   "source": [
    "# es-like direction\n",
    "def grad_est_from_rank_es_like(query_list,query_rank,sparsity = 10,mu = 0.1,with_order = True):\n",
    "    relative_rank = np.array([np.where(query_rank==ii)[0][0]+1 for ii in range(len(query_rank))])\n",
    "    weight = np.sign(relative_rank - relative_rank[0]) * np.power(np.abs(relative_rank - relative_rank[0]),1)\n",
    "    #print(weight)\n",
    "    \n",
    "    grad_est = np.sum([(query_list[ii]-query_list[0])*weight[ii] for ii in range(1,len(query_rank))],axis=0)\n",
    "    \n",
    "    return grad_est/np.linalg.norm(grad_est) if np.linalg.norm(grad_est)>1e-4 else grad_est\n",
    "\n",
    "total_zo_rank_es_like_hist = []\n",
    "\n",
    "zo_rank_grad_es_like_hist = []\n",
    "query_num = 10\n",
    "for _ in range(reps):\n",
    "    x = initial.copy()\n",
    "    cur_obj = objective.value_oracle(x)\n",
    "\n",
    "    top = query_num+1\n",
    "    mu = 0.1\n",
    "    sparsity =10000\n",
    "    lr = 1\n",
    "    zo_rank_es_like_hist= []\n",
    "\n",
    "    with_order = True\n",
    "\n",
    "    for _ in range(total_steps):\n",
    "        query_list = [x]\n",
    "        for _ in range(query_num):\n",
    "            random_d = np.random.randn(objective.dim)\n",
    "            random_d /= np.linalg.norm(random_d)\n",
    "            query_list.append(x+mu * random_d)\n",
    "        query_rank = objective.rank_oracle(query_list, top)\n",
    "        grad_est = grad_est_from_rank_es_like(query_list,query_rank,sparsity,mu,with_order)\n",
    "        \n",
    "        true_grad = objective.gradient_oracle(query_list[query_rank[0]])\n",
    "        true_grad /= np.linalg.norm(true_grad)\n",
    "        zo_rank_grad_es_like_hist.append(np.dot(grad_est,true_grad))\n",
    "        \n",
    "        \n",
    "        if line_search > 0:\n",
    "            line_search_candidates = [query_list[query_rank[0]] - lr * scale * grad_est for scale in lr / np.power(2, np.arange(line_search))]\n",
    "            x = line_search_candidates[objective.rank_oracle(line_search_candidates)[0]]\n",
    "        else:\n",
    "            x = query_list[query_rank[0]] - lr * grad_est\n",
    "        cur_obj = objective.value_oracle(x)\n",
    "        zo_rank_es_like_hist.append(cur_obj)\n",
    "    total_zo_rank_es_like_hist.append(zo_rank_es_like_hist)"
   ]
  },
  {
   "cell_type": "code",
   "execution_count": 186,
   "metadata": {},
   "outputs": [
    {
     "data": {
      "text/plain": [
       "<matplotlib.legend.Legend at 0x7f6b687c92b0>"
      ]
     },
     "execution_count": 186,
     "metadata": {},
     "output_type": "execute_result"
    },
    {
     "data": {
      "image/png": "[encoded data removed]",
      "text/plain": [
       "<Figure size 576x432 with 1 Axes>"
      ]
     },
     "metadata": {
      "needs_background": "light"
     },
     "output_type": "display_data"
    }
   ],
   "source": [
    "\n",
    "plt.figure(figsize=(8,6))\n",
    "\n",
    "\n",
    "total_zo_rank_hist = np.array(total_zo_rank_hist)\n",
    "total_zo_rank_mean = total_zo_rank_hist.mean(0)\n",
    "total_zo_rank_std = total_zo_rank_hist.std(0)\n",
    "plt.plot(total_zo_rank_mean,\"--\", label = \"zo-rank\")\n",
    "plt.fill_between(np.arange(total_steps),total_zo_rank_mean - total_zo_rank_std,total_zo_rank_mean + total_zo_rank_std, alpha=0.5)\n",
    "\n",
    "total_zo_rank_es_like_hist = np.array(total_zo_rank_es_like_hist)\n",
    "total_zo_rank_es_like_mean = total_zo_rank_es_like_hist.mean(0)\n",
    "total_zo_rank_es_like_std = total_zo_rank_es_like_hist.std(0)\n",
    "plt.plot(total_zo_rank_es_like_mean,\"--\", label = \"zo-rank-es-like\")\n",
    "plt.fill_between(np.arange(total_steps),total_zo_rank_es_like_mean - total_zo_rank_es_like_std,total_zo_rank_es_like_mean + total_zo_rank_es_like_std, alpha=0.5)\n",
    "\n",
    "plt.legend()"
   ]
  },
  {
   "cell_type": "code",
   "execution_count": 139,
   "metadata": {},
   "outputs": [
    {
     "data": {
      "text/plain": [
       "array([-0.02429106, -0.00174422, -0.05362463,  0.07362146,  0.19468264,\n",
       "        0.02686209,  0.05451651,  0.28551475,  0.15139335, -0.08097029,\n",
       "        0.        ])"
      ]
     },
     "execution_count": 139,
     "metadata": {},
     "output_type": "execute_result"
    }
   ],
   "source": [
    "ry"
   ]
  },
  {
   "cell_type": "code",
   "execution_count": 5,
   "metadata": {},
   "outputs": [],
   "source": [
    "dim=10\n",
    "m=10\n",
    "x = np.random.rand(dim,1)\n",
    "x = x/np.linalg.norm(x)\n",
    "reps = 100000\n"
   ]
  },
  {
   "cell_type": "code",
   "execution_count": 6,
   "metadata": {},
   "outputs": [],
   "source": [
    "re_x = []\n",
    "for _ in range(reps):\n",
    "    Z = np.random.randn(m,dim)\n",
    "    #Z /= np.linalg.norm(Z,axis=1).reshape(m,-1)\n",
    "    Z = np.concatenate([np.zeros((1,dim)),Z],0)\n",
    "    ry = np.matmul(Z,x).flatten()\n",
    "    y_rank = np.argsort(ry)\n",
    "    \n",
    "    relative_rank = np.array([np.where(y_rank==ii)[0][0]+1 for ii in range(len(y_rank))])\n",
    "    weight =ry#relative_rank - relative_rank[0] # np.sign(relative_rank - relative_rank[0]) * np.power(np.abs(relative_rank - relative_rank[0]),3)\n",
    "    #weight[weight<0] = -1\n",
    "    now_rex = np.sum([(Z[ii])*weight[ii] for ii in range(1,len(y_rank))],axis=0)\n",
    "    re_x.append(now_rex/np.linalg.norm(now_rex))\n",
    "    #re_x.append(Solve1BitCS(y,Z,m,dim,10000))\n",
    "#print(np.linalg.norm(x.flatten()-re_x/reps))\n",
    "\n",
    "mean_re_x = np.zeros(dim)\n",
    "results_rank = []\n",
    "for n in range(1,reps+1):\n",
    "    mean_re_x += re_x[n-1] \n",
    "    if n in [1,10,100,1000,10000,100000]:\n",
    "        test_x = mean_re_x/n\n",
    "        test_x /= np.linalg.norm(test_x)\n",
    "        results_rank.append(np.linalg.norm(x.flatten()-test_x))\n",
    "        \n",
    "#plt.plot(results,label=\"w/o rank\")\n"
   ]
  },
  {
   "cell_type": "code",
   "execution_count": 7,
   "metadata": {},
   "outputs": [
    {
     "name": "stderr",
     "output_type": "stream",
     "text": [
      "/tmp/ipykernel_21139/3643354980.py:10: RuntimeWarning: divide by zero encountered in true_divide\n",
      "  weight =10/(np.sign(relative_rank - relative_rank[0])   * np.power(np.abs(relative_rank - relative_rank[0]),3))\n"
     ]
    }
   ],
   "source": [
    "re_x = []\n",
    "for _ in range(reps):\n",
    "    Z = np.random.randn(m,dim)\n",
    "    #Z /= np.linalg.norm(Z,axis=1).reshape(m,-1)\n",
    "    Z = np.concatenate([np.zeros((1,dim)),Z],0)\n",
    "    ry = np.matmul(Z,x).flatten()\n",
    "    y_rank = np.argsort(ry)\n",
    "    \n",
    "    relative_rank = np.array([np.where(y_rank==ii)[0][0]+1 for ii in range(len(y_rank))])\n",
    "    weight =-(np.sign(relative_rank - relative_rank[0])   * np.power(np.abs(relative_rank - relative_rank[0]),3))\n",
    "    \n",
    "    #weight[weight<0] = -1\n",
    "    now_rex = np.sum([(Z[ii])*weight[ii] for ii in range(1,len(y_rank))],axis=0)\n",
    "    re_x.append(now_rex/np.linalg.norm(now_rex))\n",
    "    #re_x.append(Solve1BitCS(y,Z,m,dim,10000))\n",
    "#print(np.linalg.norm(x.flatten()-re_x/reps))\n",
    "\n",
    "mean_re_x = np.zeros(dim)\n",
    "results_rank2 = []\n",
    "for n in range(1,reps+1):\n",
    "    mean_re_x += re_x[n-1] \n",
    "    if n in [1,10,100,1000,10000,100000]:\n",
    "        test_x = mean_re_x/n\n",
    "        test_x /= np.linalg.norm(test_x)\n",
    "        results_rank2.append(np.linalg.norm(x.flatten()-test_x))\n",
    "        \n",
    "#plt.plot(results,label=\"w/o rank\")"
   ]
  },
  {
   "cell_type": "code",
   "execution_count": 8,
   "metadata": {},
   "outputs": [
    {
     "name": "stderr",
     "output_type": "stream",
     "text": [
      "No artists with labels found to put in legend.  Note that artists whose label start with an underscore are ignored when legend() is called with no argument.\n"
     ]
    },
    {
     "name": "stdout",
     "output_type": "stream",
     "text": [
      "[0.6539266964734868, 0.1804762344667992, 0.09484698247814582, 0.031236900066841492, 0.01244080162539588, 0.0022506064551677894]\n"
     ]
    },
    {
     "data": {
      "image/png": "[encoded data removed]",
      "text/plain": [
       "<Figure size 432x288 with 1 Axes>"
      ]
     },
     "metadata": {
      "needs_background": "light"
     },
     "output_type": "display_data"
    }
   ],
   "source": [
    "plt.plot(results_rank)\n",
    "plt.plot(results_rank2)\n",
    "plt.plot(np.zeros_like(results_rank))\n",
    "plt.title(\"m=10\")\n",
    "plt.xlabel(\"n\")\n",
    "plt.legend()\n",
    "plt.ylabel(r\"$||x-\\sum_{i=1}^n \\frac{\\hat x_i}{n}||$\")\n",
    "plt.xticks([0,1,2,3,4,5],[1,10,100,1000,10000,100000])\n",
    "print(results_rank)"
   ]
  },
  {
   "cell_type": "code",
   "execution_count": 219,
   "metadata": {},
   "outputs": [
    {
     "name": "stderr",
     "output_type": "stream",
     "text": [
      "No artists with labels found to put in legend.  Note that artists whose label start with an underscore are ignored when legend() is called with no argument.\n"
     ]
    },
    {
     "name": "stdout",
     "output_type": "stream",
     "text": [
      "[0.42859838867957034, 0.2907519349491125, 0.05095188233785701, 0.023719867943240318, 0.0085447562334822, 0.002250995559274833]\n"
     ]
    },
    {
     "data": {
      "image/png": "[encoded data removed]",
      "text/plain": [
       "<Figure size 432x288 with 1 Axes>"
      ]
     },
     "metadata": {
      "needs_background": "light"
     },
     "output_type": "display_data"
    }
   ],
   "source": [
    "plt.plot(results_rank)\n",
    "plt.plot(results_rank2)\n",
    "plt.plot(np.zeros_like(results_rank))\n",
    "plt.title(\"m=10\")\n",
    "plt.xlabel(\"n\")\n",
    "plt.legend()\n",
    "plt.ylabel(r\"$||x-\\sum_{i=1}^n \\frac{\\hat x_i}{n}||$\")\n",
    "plt.xticks([0,1,2,3,4,5],[1,10,100,1000,10000,100000])\n",
    "print(results_rank)"
   ]
  },
  {
   "cell_type": "code",
   "execution_count": 209,
   "metadata": {},
   "outputs": [
    {
     "data": {
      "text/plain": [
       "1.1054021690386822"
      ]
     },
     "execution_count": 209,
     "metadata": {},
     "output_type": "execute_result"
    }
   ],
   "source": [
    "ny=np.sum([(Z[ii])*weight[ii] for ii in range(1,len(y_rank))],axis=0)\n",
    "ny /= np.linalg.norm(ny)\n",
    "np.linalg.norm(x.flatten()-ny)"
   ]
  },
  {
   "cell_type": "code",
   "execution_count": 16,
   "metadata": {},
   "outputs": [
    {
     "data": {
      "text/plain": [
       "[0.43917848419570665,\n",
       " 0.18875115130873457,\n",
       " 0.031935022325389244,\n",
       " 0.03311122285606889,\n",
       " 0.0053900007215435235,\n",
       " 0.0012060872340957831]"
      ]
     },
     "execution_count": 16,
     "metadata": {},
     "output_type": "execute_result"
    }
   ],
   "source": [
    "results_rank"
   ]
  },
  {
   "cell_type": "code",
   "execution_count": 193,
   "metadata": {},
   "outputs": [
    {
     "data": {
      "text/plain": [
       "0.004840020956156981"
      ]
     },
     "execution_count": 193,
     "metadata": {},
     "output_type": "execute_result"
    }
   ],
   "source": [
    "ny1=np.sum([(Z[ii])*ry[ii] for ii in range(1,len(y_rank))],axis=0)\n",
    "ny1 /= np.linalg.norm(ny1)\n",
    "np.linalg.norm(x.flatten()-ny1)"
   ]
  },
  {
   "cell_type": "code",
   "execution_count": 174,
   "metadata": {},
   "outputs": [
    {
     "data": {
      "text/plain": [
       "array([ 0.        , -0.00067697, -0.00283737, ...,  0.00190659,\n",
       "       -0.0029444 ,  0.0037044 ])"
      ]
     },
     "execution_count": 174,
     "metadata": {},
     "output_type": "execute_result"
    }
   ],
   "source": [
    "weight/np.linalg.norm(weight)"
   ]
  },
  {
   "cell_type": "code",
   "execution_count": 173,
   "metadata": {},
   "outputs": [
    {
     "data": {
      "text/plain": [
       "array([ 0.        , -0.00049795, -0.00220957, ...,  0.00144414,\n",
       "       -0.0023135 ,  0.00315205])"
      ]
     },
     "execution_count": 173,
     "metadata": {},
     "output_type": "execute_result"
    }
   ],
   "source": [
    "ry/np.linalg.norm(ry)"
   ]
  },
  {
   "cell_type": "code",
   "execution_count": null,
   "metadata": {},
   "outputs": [],
   "source": []
  }
 ],
 "metadata": {
  "kernelspec": {
   "display_name": "gradattack",
   "language": "python",
   "name": "gradattack"
  },
  "language_info": {
   "codemirror_mode": {
    "name": "ipython",
    "version": 3
   },
   "file_extension": ".py",
   "mimetype": "text/x-python",
   "name": "python",
   "nbconvert_exporter": "python",
   "pygments_lexer": "ipython3",
   "version": "3.8.12"
  }
 },
 "nbformat": 4,
 "nbformat_minor": 4
}
