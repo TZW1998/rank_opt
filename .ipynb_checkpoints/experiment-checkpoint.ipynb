{
 "cells": [
  {
   "cell_type": "code",
   "execution_count": 1,
   "metadata": {},
   "outputs": [],
   "source": [
    "import numpy as np\n",
    "import matplotlib.pyplot as plt\n",
    "import gurobipy as gp \n",
    "from gurobipy import GRB, quicksum\n",
    "import torch\n",
    "import functools"
   ]
  },
  {
   "cell_type": "code",
   "execution_count": 2,
   "metadata": {},
   "outputs": [],
   "source": [
    "class QuadraticObj:\n",
    "    \n",
    "    def __init__(self, d=20, hidden_d=10):\n",
    "        self.dim = d\n",
    "        self.quadratic = np.random.randn(d,hidden_d)\n",
    "        self.quadratic = np.matmul(self.quadratic, self.quadratic.T)\n",
    "        self.linear = np.random.randn(d,1)\n",
    "    \n",
    "    def value_oracle(self, x):\n",
    "        x_re = x.reshape(1,self.dim)\n",
    "        obj = np.matmul(np.matmul(x_re,self.quadratic), x_re.T) + np.matmul(x_re, self.linear)\n",
    "        return obj[0][0]\n",
    "    \n",
    "    def rank_oracle(self, x_list, top = -1):\n",
    "        x_re_list = [x.reshape(1,self.dim) for x in x_list]\n",
    "        value_list = [(np.matmul(np.matmul(x_re,self.quadratic), x_re.T) + np.matmul(x_re, self.linear))[0][0] for x_re in x_re_list]\n",
    "        if top == -1:\n",
    "            return np.argsort(value_list)\n",
    "        else:\n",
    "            return np.argsort(value_list)[:top]\n",
    "        \n",
    "    def gradient_oracle(self, x):   \n",
    "        tensor_x = torch.tensor(x, requires_grad = True)\n",
    "        x_re = tensor_x.reshape(1,self.dim)\n",
    "        obj = torch.matmul(torch.matmul(x_re,torch.tensor(self.quadratic)), x_re.T) + torch.matmul(x_re, torch.tensor(self.linear))\n",
    "        obj.backward()\n",
    "        return tensor_x.grad.numpy()\n",
    "\n",
    "    \n",
    "    \n",
    "class NonConvexObj:\n",
    "    \n",
    "    def __init__(self, d=20):\n",
    "        self.dim = d\n",
    "    \n",
    "    def value_oracle(self, x):\n",
    "        x_re = x.copy()\n",
    "        obj = np.sum(100 * ((x_re[1:] - (x_re[:-1] ** 2))**2) + (1-x_re[:-1]) ** 2)\n",
    "        return obj\n",
    "    \n",
    "    def rank_oracle(self, x_list, top = -1):\n",
    "        x_re_list = [x.copy() for x in x_list]\n",
    "        value_list = [np.sum(100 * ((x_re[1:] - (x_re[:-1] ** 2))**2) + (1-x_re[:-1]) ** 2) for x_re in x_re_list]\n",
    "        if top == -1:\n",
    "            return np.argsort(value_list)\n",
    "        else:\n",
    "            return np.argsort(value_list)[:top]\n",
    "        \n",
    "    def gradient_oracle(self, x):\n",
    "        tensor_x = torch.tensor(x, requires_grad = True)\n",
    "        obj = torch.sum(100 * ((tensor_x[1:] - (tensor_x[:-1] ** 2))**2) + (1-tensor_x[:-1]) ** 2)\n",
    "        obj.backward()\n",
    "        return tensor_x.grad.numpy()"
   ]
  },
  {
   "cell_type": "markdown",
   "metadata": {},
   "source": [
    "# objective "
   ]
  },
  {
   "cell_type": "code",
   "execution_count": 3,
   "metadata": {},
   "outputs": [],
   "source": [
    "dim  = 100"
   ]
  },
  {
   "cell_type": "code",
   "execution_count": 4,
   "metadata": {},
   "outputs": [],
   "source": [
    "objective = QuadraticObj(d=dim,hidden_d=dim//2)"
   ]
  },
  {
   "cell_type": "code",
   "execution_count": 5,
   "metadata": {},
   "outputs": [],
   "source": [
    "objective = NonConvexObj(d=dim)"
   ]
  },
  {
   "cell_type": "code",
   "execution_count": 6,
   "metadata": {},
   "outputs": [],
   "source": [
    "initial = np.random.randn(objective.dim)\n",
    "total_steps = 100\n",
    "reps = 10\n",
    "query_num = 10\n",
    "lr = 1\n",
    "mu = 0.1\n",
    "top = 10"
   ]
  },
  {
   "cell_type": "markdown",
   "metadata": {},
   "source": [
    "# optimization with gradient "
   ]
  },
  {
   "cell_type": "code",
   "execution_count": 7,
   "metadata": {},
   "outputs": [],
   "source": [
    "def optimize_with_gradient(objective, gradient_est_func, reps, lr, initial, total_steps):\n",
    "    global best_point\n",
    "    \n",
    "    total_hist = []\n",
    "    for _ in range(reps):\n",
    "        x = initial.copy()\n",
    "        best_point = initial.copy()\n",
    "        cur_obj = objective.value_oracle(x)\n",
    "        hist= [cur_obj]\n",
    "        for _ in range(total_steps):\n",
    "            grad_est = gradient_est_func(x)\n",
    "            x = x - lr * grad_est\n",
    "            cur_obj = objective.value_oracle(x)\n",
    "            hist.append(cur_obj)\n",
    "        total_hist.append(hist)\n",
    "    return total_hist"
   ]
  },
  {
   "cell_type": "markdown",
   "metadata": {},
   "source": [
    "### Gradient Descent"
   ]
  },
  {
   "cell_type": "code",
   "execution_count": 8,
   "metadata": {},
   "outputs": [],
   "source": [
    "def fo_grad_est(x, objective):\n",
    "    grad_est = objective.gradient_oracle(x)\n",
    "    return grad_est / np.linalg.norm(grad_est)\n",
    "\n",
    "gradient_est_func = functools.partial(fo_grad_est, objective = objective)\n",
    "fo_total_hist = optimize_with_gradient(objective, gradient_est_func, reps, lr, initial, total_steps)"
   ]
  },
  {
   "cell_type": "markdown",
   "metadata": {},
   "source": [
    "### Gradient estimator with value oracle"
   ]
  },
  {
   "cell_type": "code",
   "execution_count": 9,
   "metadata": {},
   "outputs": [],
   "source": [
    "def zo_grad_est(x, objective, query_num, mu):\n",
    "    grad_est = np.zeros_like(x)\n",
    "    cur_obj = objective.value_oracle(x)\n",
    "    for _ in range(query_num - 1):\n",
    "        random_d = np.random.randn(objective.dim)\n",
    "        random_d /= np.linalg.norm(random_d)\n",
    "        grad_est += (objective.value_oracle(x + mu * random_d) - cur_obj) * random_d / mu\n",
    "    return grad_est / np.linalg.norm(grad_est)\n",
    "\n",
    "gradient_est_func = functools.partial(zo_grad_est, objective = objective, query_num = query_num, mu = mu)\n",
    "zo_total_hist = optimize_with_gradient(objective, gradient_est_func, reps, 1, initial, total_steps)"
   ]
  },
  {
   "cell_type": "markdown",
   "metadata": {},
   "source": [
    "### Gradient estimator with comparison oracle (only work when top = query_num)"
   ]
  },
  {
   "cell_type": "code",
   "execution_count": 10,
   "metadata": {},
   "outputs": [],
   "source": [
    "def zo_comp_grad_est(x, objective, query_num, mu):\n",
    "    grad_est = np.zeros_like(x)\n",
    "    cur_obj = objective.value_oracle(x)\n",
    "    for _ in range(query_num - 1):\n",
    "        random_d = np.random.randn(objective.dim)\n",
    "        random_d /= np.linalg.norm(random_d)\n",
    "        grad_est += np.sign(objective.value_oracle(x + mu * random_d) - cur_obj) * random_d \n",
    "    return grad_est / np.linalg.norm(grad_est)\n",
    "        \n",
    "\n",
    "gradient_est_func = functools.partial(zo_comp_grad_est, objective = objective, query_num = query_num, mu = mu)\n",
    "zo_comp_total_hist = optimize_with_gradient(objective, gradient_est_func, reps, 1, initial, total_steps)"
   ]
  },
  {
   "cell_type": "markdown",
   "metadata": {},
   "source": [
    "### rank-based  gradient estimator v1"
   ]
  },
  {
   "cell_type": "code",
   "execution_count": 11,
   "metadata": {},
   "outputs": [],
   "source": [
    "def zo_rank_v1_grad_est(x, objective, query_num, mu, top):\n",
    "    def _grad_est_from_rank(query_list,query_rank):\n",
    "        Z = []\n",
    "        y = []\n",
    "\n",
    "        for ii, x0 in enumerate(query_rank[:-1]):\n",
    "            for jj, x1 in enumerate(query_rank[(ii+1):]):\n",
    "                now_z = query_list[x1]-query_list[x0]\n",
    "                Z.append(now_z / np.linalg.norm(now_z))\n",
    "                y.append(1)\n",
    "        if len(query_list) > len(query_rank):\n",
    "            for x0, qx0 in enumerate(query_list):\n",
    "                if x0 not in query_rank:\n",
    "                    for top_x0 in query_rank:\n",
    "                        now_z = qx0 - query_list[top_x0]\n",
    "                        Z.append(now_z / np.linalg.norm(now_z))\n",
    "                        y.append(1)\n",
    "\n",
    "        y=np.array(y)\n",
    "        Z=np.array(Z)\n",
    "        grad_est = np.matmul(y.reshape(1,-1),Z).flatten()\n",
    "    \n",
    "        return grad_est\n",
    "    \n",
    "    query_list = [x]\n",
    "    for _ in range(query_num - 1):\n",
    "        random_d = np.random.randn(objective.dim)\n",
    "        random_d /= np.linalg.norm(random_d)\n",
    "        query_list.append(x+mu * random_d)\n",
    "    query_rank = objective.rank_oracle(query_list, top)\n",
    "    grad_est = _grad_est_from_rank(query_list,query_rank)\n",
    "        \n",
    "    return grad_est / np.linalg.norm(grad_est) if np.linalg.norm(grad_est) > 1e-4 else grad_est\n",
    "        \n",
    "\n",
    "gradient_est_func = functools.partial(zo_rank_v1_grad_est, objective = objective, query_num = query_num, mu = mu, top = top)\n",
    "zo_rank_v1_total_hist = optimize_with_gradient(objective, gradient_est_func, reps, 1, initial, total_steps)"
   ]
  },
  {
   "cell_type": "markdown",
   "metadata": {},
   "source": [
    "### rank-based  gradient estimator v2 (only work when top = query_num)"
   ]
  },
  {
   "cell_type": "code",
   "execution_count": 12,
   "metadata": {},
   "outputs": [],
   "source": [
    "# def zo_rank_v2_grad_est(x, objective, query_num, mu, top):\n",
    "#     def _grad_est_from_rank(query_list,query_rank):\n",
    "#         relative_rank = np.array([np.where(query_rank==ii)[0][0]+1 for ii in range(len(query_rank))])\n",
    "#         weight = relative_rank - relative_rank[0]\n",
    "\n",
    "#         grad_est = np.sum([(query_list[ii]-query_list[0])*weight[ii] for ii in range(1,len(query_rank))],axis=0)\n",
    "    \n",
    "#         return grad_est\n",
    "    \n",
    "#     query_list = [x]\n",
    "#     for _ in range(query_num - 1):\n",
    "#         random_d = np.random.randn(objective.dim)\n",
    "#         random_d /= np.linalg.norm(random_d)\n",
    "#         query_list.append(x+mu * random_d)\n",
    "#     query_rank = objective.rank_oracle(query_list, top)\n",
    "#     grad_est = _grad_est_from_rank(query_list,query_rank)\n",
    "        \n",
    "#     return grad_est / np.linalg.norm(grad_est)\n",
    "        \n",
    "# assert top == query_num\n",
    "# gradient_est_func = functools.partial(zo_rank_v2_grad_est, objective = objective, query_num = query_num, mu = mu, top = top)\n",
    "# zo_rank_v2_total_hist = optimize_with_gradient(objective, gradient_est_func, reps, 1, initial, total_steps)"
   ]
  },
  {
   "cell_type": "markdown",
   "metadata": {},
   "source": [
    "### rank-based  gradient estimator v3 (adding current best point)"
   ]
  },
  {
   "cell_type": "code",
   "execution_count": 13,
   "metadata": {},
   "outputs": [],
   "source": [
    "def zo_rank_v3_grad_est(x, objective, query_num, mu, top):\n",
    "    def _grad_est_from_rank(query_list,query_rank):\n",
    "        Z = []\n",
    "        y = []\n",
    "\n",
    "        for ii, x0 in enumerate(query_rank[:-1]):\n",
    "            for jj, x1 in enumerate(query_rank[(ii+1):]):\n",
    "                now_z = query_list[x1]-query_list[x0]\n",
    "                Z.append(now_z / np.linalg.norm(now_z))\n",
    "                y.append(1)\n",
    "        if len(query_list) > len(query_rank):\n",
    "            for x0, qx0 in enumerate(query_list):\n",
    "                if x0 not in query_rank:\n",
    "                    for top_x0 in query_rank:\n",
    "                        now_z = qx0 - query_list[top_x0]\n",
    "                        Z.append(now_z / np.linalg.norm(now_z))\n",
    "                        y.append(1)\n",
    "\n",
    "        y=np.array(y)\n",
    "        Z=np.array(Z)\n",
    "        grad_est = np.matmul(y.reshape(1,-1),Z).flatten()\n",
    "    \n",
    "        return grad_est\n",
    "    \n",
    "    global best_point\n",
    "    \n",
    "    query_list = [x]\n",
    "    if np.linalg.norm(x - best_point) > 1e-4:\n",
    "        query_list.append(best_point)\n",
    "    for _ in range(query_num - len(query_list)):\n",
    "        random_d = np.random.randn(objective.dim)\n",
    "        random_d /= np.linalg.norm(random_d)\n",
    "        query_list.append(x+mu * random_d)\n",
    "    query_rank = objective.rank_oracle(query_list, top)\n",
    "    grad_est = _grad_est_from_rank(query_list,query_rank)\n",
    "    best_point = query_list[query_rank[0]]\n",
    "        \n",
    "    return grad_est / np.linalg.norm(grad_est) if np.linalg.norm(grad_est) > 1e-4 else grad_est\n",
    "        \n",
    "best_point = initial.copy()\n",
    "gradient_est_func = functools.partial(zo_rank_v3_grad_est, objective = objective, query_num = query_num, mu = mu, top = top)\n",
    "zo_rank_v3_total_hist = optimize_with_gradient(objective, gradient_est_func, reps, 1, initial, total_steps)"
   ]
  },
  {
   "cell_type": "markdown",
   "metadata": {},
   "source": [
    "### rank-based  gradient estimator v4 (replace x with new random query)"
   ]
  },
  {
   "cell_type": "code",
   "execution_count": 14,
   "metadata": {},
   "outputs": [],
   "source": [
    "def zo_rank_v4_grad_est(x, objective, query_num, mu, top):\n",
    "    def _grad_est_from_rank(query_list,query_rank):\n",
    "        Z = []\n",
    "        y = []\n",
    "\n",
    "        for ii, x0 in enumerate(query_rank[:-1]):\n",
    "            for jj, x1 in enumerate(query_rank[(ii+1):]):\n",
    "                now_z = query_list[x1]-query_list[x0]\n",
    "                Z.append(now_z / np.linalg.norm(now_z))\n",
    "                y.append(1)\n",
    "        if len(query_list) > len(query_rank):\n",
    "            for x0, qx0 in enumerate(query_list):\n",
    "                if x0 not in query_rank:\n",
    "                    for top_x0 in query_rank:\n",
    "                        now_z = qx0 - query_list[top_x0]\n",
    "                        Z.append(now_z / np.linalg.norm(now_z))\n",
    "                        y.append(1)\n",
    "\n",
    "        y=np.array(y)\n",
    "        Z=np.array(Z)\n",
    "        grad_est = np.matmul(y.reshape(1,-1),Z).flatten()\n",
    "    \n",
    "        return grad_est\n",
    "    \n",
    "    query_list = []\n",
    "    for _ in range(query_num - len(query_list)):\n",
    "        random_d = np.random.randn(objective.dim)\n",
    "        random_d /= np.linalg.norm(random_d)\n",
    "        query_list.append(x+mu * random_d)\n",
    "    query_rank = objective.rank_oracle(query_list, top)\n",
    "    grad_est = _grad_est_from_rank(query_list,query_rank)\n",
    "        \n",
    "    return grad_est / np.linalg.norm(grad_est) if np.linalg.norm(grad_est) > 1e-4 else grad_est\n",
    "        \n",
    "best_point = initial.copy()\n",
    "gradient_est_func = functools.partial(zo_rank_v4_grad_est, objective = objective, query_num = query_num, mu = mu, top = top)\n",
    "zo_rank_v4_total_hist = optimize_with_gradient(objective, gradient_est_func, reps, 1, initial, total_steps)"
   ]
  },
  {
   "cell_type": "code",
   "execution_count": 15,
   "metadata": {},
   "outputs": [],
   "source": [
    "def zo_rank_v5_grad_est(x, objective, query_num, mu, top):\n",
    "    def _grad_est_from_rank(query_list,query_rank):\n",
    "        Z = []\n",
    "        y = []\n",
    "\n",
    "        for ii, x0 in enumerate(query_rank[:-1]):\n",
    "            for jj, x1 in enumerate(query_rank[(ii+1):]):\n",
    "                now_z = query_list[x1]-query_list[x0]\n",
    "                Z.append(now_z / np.linalg.norm(now_z))\n",
    "                y.append(1)\n",
    "        if len(query_list) > len(query_rank):\n",
    "            for x0, qx0 in enumerate(query_list):\n",
    "                if x0 not in query_rank:\n",
    "                    for top_x0 in query_rank:\n",
    "                        now_z = qx0 - query_list[top_x0]\n",
    "                        Z.append(now_z / np.linalg.norm(now_z))\n",
    "                        y.append(1)\n",
    "\n",
    "        y=np.array(y)\n",
    "        Z=np.array(Z)\n",
    "        grad_est = np.matmul(y.reshape(1,-1),Z).flatten()\n",
    "    \n",
    "        return grad_est\n",
    "    \n",
    "    global best_point\n",
    "    \n",
    "    query_list = [best_point]\n",
    "    for _ in range(query_num - len(query_list)):\n",
    "        random_d = np.random.randn(objective.dim)\n",
    "        random_d /= np.linalg.norm(random_d)\n",
    "        query_list.append(x+mu * random_d)\n",
    "    query_rank = objective.rank_oracle(query_list, top)\n",
    "    grad_est = _grad_est_from_rank(query_list,query_rank)\n",
    "    best_point = query_list[query_rank[0]]\n",
    "        \n",
    "    return grad_est / np.linalg.norm(grad_est) if np.linalg.norm(grad_est) > 1e-4 else grad_est\n",
    "        \n",
    "best_point = initial.copy()\n",
    "gradient_est_func = functools.partial(zo_rank_v5_grad_est, objective = objective, query_num = query_num, mu = mu, top = top)\n",
    "zo_rank_v5_total_hist = optimize_with_gradient(objective, gradient_est_func, reps, 1, initial, total_steps)"
   ]
  },
  {
   "cell_type": "markdown",
   "metadata": {},
   "source": [
    "# optimization without gradient "
   ]
  },
  {
   "cell_type": "code",
   "execution_count": 16,
   "metadata": {},
   "outputs": [],
   "source": [
    "def optimize_without_gradient(objective, update_func, reps, initial, total_steps):\n",
    "    total_hist = []\n",
    "    for _ in range(reps):\n",
    "        x = initial.copy()\n",
    "        cur_obj = objective.value_oracle(x)\n",
    "        hist= [cur_obj]\n",
    "        for _ in range(total_steps):\n",
    "            x = update_func(x)\n",
    "            cur_obj = objective.value_oracle(x)\n",
    "            hist.append(cur_obj)\n",
    "        total_hist.append(hist)\n",
    "    return total_hist"
   ]
  },
  {
   "cell_type": "markdown",
   "metadata": {},
   "source": [
    "### GLD"
   ]
  },
  {
   "cell_type": "code",
   "execution_count": 17,
   "metadata": {},
   "outputs": [],
   "source": [
    "def gld_update_func(x, objective, query_num, mu):\n",
    "    grad_est = np.zeros_like(x)\n",
    "    cur_obj = objective.value_oracle(x)\n",
    "    best_point = x.copy()\n",
    "    for _ in range(query_num - 1):\n",
    "        random_d = np.random.randn(objective.dim)\n",
    "        random_d /= np.linalg.norm(random_d)\n",
    "        query_point = x + mu * random_d\n",
    "        query_value = objective.value_oracle(query_point)\n",
    "        if query_value < cur_obj:\n",
    "            cur_obj = query_value\n",
    "            best_point = query_point\n",
    "        mu /= 2\n",
    "    return best_point\n",
    "\n",
    "update_func = functools.partial(gld_update_func, objective = objective, query_num = query_num, mu = 0.4)\n",
    "gld_total_hist = optimize_without_gradient(objective, update_func, reps, initial, total_steps)"
   ]
  },
  {
   "cell_type": "markdown",
   "metadata": {},
   "source": [
    "### Heuristic"
   ]
  },
  {
   "cell_type": "code",
   "execution_count": 18,
   "metadata": {},
   "outputs": [],
   "source": [
    "def heuristic_update_func(x, objective, query_num, mu, top):\n",
    "    query_list = []\n",
    "    for _ in range(query_num):\n",
    "        random_d = np.random.randn(objective.dim)\n",
    "        query_list.append(x+mu * random_d)\n",
    "    query_rank = objective.rank_oracle(query_list, top)\n",
    "    best_point = np.zeros_like(x)\n",
    "    acc_weight = 0\n",
    "    for r, p in enumerate(query_rank):\n",
    "        w = len(query_rank) - r\n",
    "        acc_weight += w\n",
    "        best_point += w * query_list[p]\n",
    "    best_point /= acc_weight\n",
    "    \n",
    "    return best_point\n",
    "\n",
    "update_func = functools.partial(heuristic_update_func, objective = objective, query_num = query_num, mu = 0.2, top = min([3,top]))\n",
    "heuristic_total_hist = optimize_without_gradient(objective, update_func, reps, initial, total_steps)"
   ]
  },
  {
   "cell_type": "markdown",
   "metadata": {},
   "source": [
    "### CMA-ES"
   ]
  },
  {
   "cell_type": "code",
   "execution_count": 19,
   "metadata": {},
   "outputs": [
    {
     "name": "stdout",
     "output_type": "stream",
     "text": [
      "(5_w,10)-aCMA-ES (mu_w=3.2,w_1=45%) in dimension 100 (seed=545108, Wed Jan 11 19:38:27 2023)\n",
      "(5_w,10)-aCMA-ES (mu_w=3.2,w_1=45%) in dimension 100 (seed=576210, Wed Jan 11 19:38:27 2023)\n",
      "(5_w,10)-aCMA-ES (mu_w=3.2,w_1=45%) in dimension 100 (seed=538369, Wed Jan 11 19:38:28 2023)\n",
      "(5_w,10)-aCMA-ES (mu_w=3.2,w_1=45%) in dimension 100 (seed=547849, Wed Jan 11 19:38:28 2023)\n",
      "(5_w,10)-aCMA-ES (mu_w=3.2,w_1=45%) in dimension 100 (seed=523827, Wed Jan 11 19:38:28 2023)\n",
      "(5_w,10)-aCMA-ES (mu_w=3.2,w_1=45%) in dimension 100 (seed=502288, Wed Jan 11 19:38:28 2023)\n",
      "(5_w,10)-aCMA-ES (mu_w=3.2,w_1=45%) in dimension 100 (seed=565969, Wed Jan 11 19:38:28 2023)\n",
      "(5_w,10)-aCMA-ES (mu_w=3.2,w_1=45%) in dimension 100 (seed=575683, Wed Jan 11 19:38:28 2023)\n",
      "(5_w,10)-aCMA-ES (mu_w=3.2,w_1=45%) in dimension 100 (seed=456936, Wed Jan 11 19:38:29 2023)\n",
      "(5_w,10)-aCMA-ES (mu_w=3.2,w_1=45%) in dimension 100 (seed=552754, Wed Jan 11 19:38:29 2023)\n"
     ]
    }
   ],
   "source": [
    "from cma import CMAEvolutionStrategy\n",
    "\n",
    "es_total_hist = []\n",
    "for _ in range(reps):\n",
    "    es = CMAEvolutionStrategy(list(initial), mu, {'popsize':query_num})\n",
    "    es_hist= []\n",
    "    for _ in range(total_steps):\n",
    "        solutions = es.ask()\n",
    "        values = [objective.value_oracle(np.array(x)) for x in solutions]\n",
    "        es_hist.append(np.min(values))\n",
    "        es.tell(solutions, values)\n",
    "    es_total_hist.append(es_hist)"
   ]
  },
  {
   "cell_type": "markdown",
   "metadata": {},
   "source": [
    "# plot"
   ]
  },
  {
   "cell_type": "code",
   "execution_count": 20,
   "metadata": {},
   "outputs": [],
   "source": [
    "def plot_hist(total_hist, label):\n",
    "    total_hist = np.array(total_hist)\n",
    "    total_mean = total_hist.mean(0)\n",
    "    total_std = total_hist.std(0)\n",
    "    plt.plot(total_mean,\"--\", label = label)\n",
    "    total_steps = np.arange(len(total_mean))\n",
    "    plt.fill_between(total_steps,total_mean - total_std,total_mean + total_std, alpha=0.3)"
   ]
  },
  {
   "cell_type": "code",
   "execution_count": 21,
   "metadata": {},
   "outputs": [
    {
     "data": {
      "text/plain": [
       "<matplotlib.legend.Legend at 0x7f0c34194c10>"
      ]
     },
     "execution_count": 21,
     "metadata": {},
     "output_type": "execute_result"
    },
    {
     "data": {
      "image/png": "[encoded data removed]",
      "text/plain": [
       "<Figure size 576x432 with 1 Axes>"
      ]
     },
     "metadata": {
      "needs_background": "light"
     },
     "output_type": "display_data"
    }
   ],
   "source": [
    "plt.figure(figsize=(8,6))\n",
    "\n",
    "#plot_hist(fo_total_hist,\"fo\")\n",
    "plot_hist(zo_total_hist,\"zo\")\n",
    "plot_hist(zo_comp_total_hist,\"zo_comp\")\n",
    "plot_hist(zo_rank_v1_total_hist,\"zo_rank_v1\")\n",
    "#plot_hist(zo_rank_v2_total_hist,\"zo_rank_v2\")\n",
    "plot_hist(zo_rank_v3_total_hist,\"zo_rank_v3\")\n",
    "plot_hist(zo_rank_v4_total_hist,\"zo_rank_v4\")\n",
    "plot_hist(zo_rank_v5_total_hist,\"zo_rank_v5\")\n",
    "\n",
    "plot_hist(gld_total_hist,\"GLD\")\n",
    "plot_hist(heuristic_total_hist,\"heuristic\")\n",
    "#plot_hist(es_total_hist,\"CMA-ES\")\n",
    "\n",
    "\n",
    "plt.legend()"
   ]
  }
 ],
 "metadata": {
  "kernelspec": {
   "display_name": "gradattack",
   "language": "python",
   "name": "gradattack"
  },
  "language_info": {
   "codemirror_mode": {
    "name": "ipython",
    "version": 3
   },
   "file_extension": ".py",
   "mimetype": "text/x-python",
   "name": "python",
   "nbconvert_exporter": "python",
   "pygments_lexer": "ipython3",
   "version": "3.8.12"
  }
 },
 "nbformat": 4,
 "nbformat_minor": 4
}
