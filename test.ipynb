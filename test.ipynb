{
 "cells": [
  {
   "cell_type": "code",
   "execution_count": 46,
   "metadata": {},
   "outputs": [],
   "source": [
    "import numpy as np\n",
    "import matplotlib.pyplot as plt\n",
    "import gurobipy as gp \n",
    "from gurobipy import GRB, quicksum\n",
    "import torch\n",
    "\"\"\"\n",
    "The user MUST install Gurobi to use this program.\n",
    "Check https://www.gurobi.com/ for installation details.\n",
    "\"\"\"\n",
    "\n",
    "def Solve1BitCS(y,Z,m,d,s):\n",
    "    '''\n",
    "    This function creates a quadratic programming model, calls Gurobi\n",
    "    and solves the 1 bit CS subproblem. This function can be replaced with\n",
    "    any suitable function that calls a convex optimization package.\n",
    "    =========== INPUTS ==============\n",
    "    y ........... length m vector of one-bit measurements\n",
    "    Z ........... m-by-d sensing matrix\n",
    "    m ........... number of measurements\n",
    "    d ........... dimension of problem\n",
    "    s ........... sparsity level\n",
    "    \n",
    "    =========== OUTPUTS =============\n",
    "    x_hat ....... Solution. Note that ||x_hat||_2 = 1\n",
    "    '''   \n",
    "    model = gp.Model(\"1BitRecovery\")\n",
    "    x = model.addVars(2*d, vtype = GRB.CONTINUOUS)\n",
    "    c1 = np.dot(y.T,Z)\n",
    "    c = list(np.concatenate((c1,-c1)))\n",
    "\n",
    "    model.setObjective(quicksum(c[i]*x[i] for i in range(0,2*d)), GRB.MAXIMIZE)\n",
    "    model.addConstr(quicksum(x) <= np.sqrt(s),\"ell_1\")  # sum_i x_i <=1\n",
    "    model.addConstr(quicksum(x[i]*x[i] for i in range(0,2*d)) - 2*quicksum(x[i]*x[d+i] for i in range(0,d))<= 1, \"ell_2\") # sum_i x_i^2 <= 1\n",
    "    model.addConstrs(x[i] >= 0 for i in range(0,2*d))\n",
    "    model.Params.OUTPUTFLAG = 0\n",
    "\n",
    "    model.optimize()\n",
    "    TempSol = model.getAttr('x')\n",
    "    x_hat = np.array(TempSol[0:d] - np.array(TempSol[d:2*d]))\n",
    "    return x_hat\n",
    "\n",
    "class QuadraticObj:\n",
    "    \n",
    "    def __init__(self, d=20, hidden_d=10):\n",
    "        self.dim = d\n",
    "        self.quadratic = np.random.randn(d,hidden_d)\n",
    "        self.quadratic = np.matmul(self.quadratic, self.quadratic.T)\n",
    "        self.linear = np.random.randn(d,1)\n",
    "    \n",
    "    def value_oracle(self, x):\n",
    "        x_re = x.reshape(1,self.dim)\n",
    "        obj = np.matmul(np.matmul(x_re,self.quadratic), x_re.T) + np.matmul(x_re, self.linear)\n",
    "        return obj[0][0]\n",
    "    \n",
    "    def rank_oracle(self, x_list, top = -1):\n",
    "        x_re_list = [x.reshape(1,self.dim) for x in x_list]\n",
    "        value_list = [(np.matmul(np.matmul(x_re,self.quadratic), x_re.T) + np.matmul(x_re, self.linear))[0][0] for x_re in x_re_list]\n",
    "        if top == -1:\n",
    "            return np.argsort(value_list)\n",
    "        else:\n",
    "            return np.argsort(value_list)[:top]\n",
    "        \n",
    "    def gradient_oracle(self, x):   \n",
    "        tensor_x = torch.tensor(x, requires_grad = True)\n",
    "        x_re = tensor_x.reshape(1,self.dim)\n",
    "        obj = torch.matmul(torch.matmul(x_re,torch.tensor(self.quadratic)), x_re.T) + torch.matmul(x_re, torch.tensor(self.linear))\n",
    "        obj.backward()\n",
    "        return tensor_x.grad.numpy()\n",
    "\n",
    "    \n",
    "    \n",
    "class NonConvexObj:\n",
    "    \n",
    "    def __init__(self, d=20):\n",
    "        self.dim = d\n",
    "    \n",
    "    def value_oracle(self, x):\n",
    "        x_re = x.copy()\n",
    "        obj = np.sum(100 * ((x_re[1:] - (x_re[:-1] ** 2))**2) + (1-x_re[:-1]) ** 2)\n",
    "        return obj\n",
    "    \n",
    "    def rank_oracle(self, x_list, top = -1):\n",
    "        x_re_list = [x.copy() for x in x_list]\n",
    "        value_list = [np.sum(100 * ((x_re[1:] - (x_re[:-1] ** 2))**2) + (1-x_re[:-1]) ** 2) for x_re in x_re_list]\n",
    "        if top == -1:\n",
    "            return np.argsort(value_list)\n",
    "        else:\n",
    "            return np.argsort(value_list)[:top]\n",
    "        \n",
    "    def gradient_oracle(self, x):\n",
    "        tensor_x = torch.tensor(x, requires_grad = True)\n",
    "        obj = torch.sum(100 * ((tensor_x[1:] - (tensor_x[:-1] ** 2))**2) + (1-tensor_x[:-1]) ** 2)\n",
    "        obj.backward()\n",
    "        return tensor_x.grad.numpy()"
   ]
  },
  {
   "cell_type": "code",
   "execution_count": 99,
   "metadata": {},
   "outputs": [],
   "source": [
    "dim  = 20"
   ]
  },
  {
   "cell_type": "code",
   "execution_count": 106,
   "metadata": {},
   "outputs": [],
   "source": [
    "objective = QuadraticObj(d=dim,hidden_d=dim//2)"
   ]
  },
  {
   "cell_type": "code",
   "execution_count": 100,
   "metadata": {},
   "outputs": [],
   "source": [
    "objective = NonConvexObj(d=dim)"
   ]
  },
  {
   "cell_type": "code",
   "execution_count": 107,
   "metadata": {},
   "outputs": [],
   "source": [
    "initial = np.random.randn(objective.dim)\n",
    "total_steps = 200\n",
    "reps = 10"
   ]
  },
  {
   "cell_type": "code",
   "execution_count": 108,
   "metadata": {},
   "outputs": [],
   "source": [
    "# simple zo algorithm\n",
    "total_zo_hist = []\n",
    "for _ in range(reps):\n",
    "    zo_hist = []\n",
    "    x = initial.copy()\n",
    "    cur_obj = objective.value_oracle(x)\n",
    "    query_num = 5\n",
    "    mu = 0.1\n",
    "    lr = 1\n",
    "    line_search = 4\n",
    "    for _ in range(total_steps):\n",
    "        grad_est = np.zeros_like(x)\n",
    "        for _ in range(query_num):\n",
    "            random_d = np.random.randn(objective.dim)\n",
    "            random_d /= np.linalg.norm(random_d)\n",
    "            grad_est += (objective.value_oracle(x + mu * random_d) - cur_obj) * random_d / mu\n",
    "        grad_est /= np.linalg.norm(grad_est)\n",
    "        if line_search > 0:\n",
    "            line_search_candidates = [x - lr * scale * grad_est for scale in lr / np.power(2, np.arange(line_search))]\n",
    "            line_search_values = [objective.value_oracle(xc) for xc in line_search_candidates]\n",
    "            x = line_search_candidates[np.argmin(line_search_values)]\n",
    "        else:\n",
    "            x = x - lr * grad_est\n",
    "        cur_obj = objective.value_oracle(x)\n",
    "        zo_hist.append(cur_obj)\n",
    "    total_zo_hist.append(zo_hist)\n",
    "\n"
   ]
  },
  {
   "cell_type": "code",
   "execution_count": 109,
   "metadata": {},
   "outputs": [],
   "source": [
    "# simple fo algorithm\n",
    "total_fo_hist = []\n",
    "for _ in range(reps):\n",
    "    fo_hist = []\n",
    "    x = initial.copy()\n",
    "    cur_obj = objective.value_oracle(x)\n",
    "    lr = 1\n",
    "    line_search = 4\n",
    "    for _ in range(total_steps):\n",
    "        grad_est = objective.gradient_oracle(x)\n",
    "        grad_est /= np.linalg.norm(grad_est)\n",
    "        if line_search > 0:\n",
    "            line_search_candidates = [x - lr * scale * grad_est for scale in lr / np.power(2, np.arange(line_search))]\n",
    "            line_search_values = [objective.value_oracle(xc) for xc in line_search_candidates]\n",
    "            x = line_search_candidates[np.argmin(line_search_values)]\n",
    "        else:\n",
    "            x = x - lr * grad_est\n",
    "        cur_obj = objective.value_oracle(x)\n",
    "        fo_hist.append(cur_obj)\n",
    "    total_fo_hist.append(fo_hist)"
   ]
  },
  {
   "cell_type": "code",
   "execution_count": 110,
   "metadata": {},
   "outputs": [],
   "source": [
    "# rank-based optimization\n",
    "def grad_est_from_rank(query_list,query_rank,sparsity = 10,mu = 0.1,with_order = True):\n",
    "    Z = []\n",
    "    y = []\n",
    "    if with_order:\n",
    "        for ii, x0 in enumerate(query_rank[:-1]):\n",
    "            for jj, x1 in enumerate(query_rank[(ii+1):]):\n",
    "                now_z = query_list[x1]-query_list[x0]\n",
    "                Z.append(now_z / np.linalg.norm(now_z))\n",
    "                y.append(1)\n",
    "    if len(query_list) > len(query_rank):\n",
    "        for x0, qx0 in enumerate(query_list):\n",
    "            if x0 not in query_rank:\n",
    "                for top_x0 in query_rank:\n",
    "                    now_z = qx0 - query_list[top_x0]\n",
    "                    Z.append(now_z / np.linalg.norm(now_z))\n",
    "                    y.append(1)\n",
    "    \n",
    "    y=np.array(y)\n",
    "    Z=np.array(Z)\n",
    "    #print(Z.shape)\n",
    "    #grad_est = Solve1BitCS(y,Z,Z.shape[0],Z.shape[1],sparsity)\n",
    "    grad_est = np.matmul(y.reshape(1,-1),Z).flatten()\n",
    "    return grad_est/np.linalg.norm(grad_est)\n",
    "\n",
    "total_zo_rank_hist = []\n",
    "\n",
    "zo_rank_grad_hist = []\n",
    "\n",
    "for _ in range(reps):\n",
    "    x = initial.copy()\n",
    "    cur_obj = objective.value_oracle(x)\n",
    "    query_num = 5\n",
    "    top = 6\n",
    "    mu = 0.1\n",
    "    sparsity =10000\n",
    "    lr = 1\n",
    "    zo_rank_hist= []\n",
    "\n",
    "    with_order = True\n",
    "\n",
    "    for _ in range(total_steps):\n",
    "        query_list = [x]\n",
    "        for _ in range(query_num):\n",
    "            random_d = np.random.randn(objective.dim)\n",
    "            random_d /= np.linalg.norm(random_d)\n",
    "            query_list.append(x+mu * random_d)\n",
    "        query_rank = objective.rank_oracle(query_list, top)\n",
    "        grad_est = grad_est_from_rank(query_list,query_rank,sparsity,mu,with_order)\n",
    "        \n",
    "        true_grad = objective.gradient_oracle(query_list[query_rank[0]])\n",
    "        true_grad /= np.linalg.norm(true_grad)\n",
    "        zo_rank_grad_hist.append(np.dot(grad_est,true_grad))\n",
    "        \n",
    "        \n",
    "        if line_search > 0:\n",
    "            line_search_candidates = [query_list[query_rank[0]] - lr * scale * grad_est for scale in lr / np.power(2, np.arange(line_search))]\n",
    "            x = line_search_candidates[objective.rank_oracle(line_search_candidates)[0]]\n",
    "        else:\n",
    "            x = query_list[query_rank[0]] - lr * grad_est\n",
    "        cur_obj = objective.value_oracle(x)\n",
    "        zo_rank_hist.append(cur_obj)\n",
    "    total_zo_rank_hist.append(zo_rank_hist)"
   ]
  },
  {
   "cell_type": "code",
   "execution_count": 64,
   "metadata": {},
   "outputs": [],
   "source": [
    "# rank-based optimization - direct search\n",
    "total_ds_rank_hist = []\n",
    "for _ in range(reps):\n",
    "    x = initial.copy()\n",
    "    cur_obj = objective.value_oracle(x)\n",
    "    query_num = 10\n",
    "    mu = 0.1\n",
    "    ds_rank_hist= []\n",
    "\n",
    "    for _ in range(total_steps):\n",
    "        query_list = [x]\n",
    "        for _ in range(query_num):\n",
    "            random_d = np.random.randn(objective.dim)\n",
    "            random_d /= np.linalg.norm(random_d)\n",
    "            query_list.append(x+mu * random_d)\n",
    "        query_rank = objective.rank_oracle(query_list, 1)\n",
    "        x = query_list[query_rank[0]]\n",
    "        cur_obj = objective.value_oracle(x)\n",
    "        ds_rank_hist.append(cur_obj)\n",
    "    total_ds_rank_hist.append(ds_rank_hist)"
   ]
  },
  {
   "cell_type": "code",
   "execution_count": 74,
   "metadata": {},
   "outputs": [
    {
     "name": "stdout",
     "output_type": "stream",
     "text": [
      "(7_w,14)-aCMA-ES (mu_w=4.3,w_1=36%) in dimension 10 (seed=438058, Tue Dec  6 19:02:50 2022)\n",
      "(7_w,14)-aCMA-ES (mu_w=4.3,w_1=36%) in dimension 10 (seed=336854, Tue Dec  6 19:02:51 2022)\n",
      "(7_w,14)-aCMA-ES (mu_w=4.3,w_1=36%) in dimension 10 (seed=359567, Tue Dec  6 19:02:51 2022)\n",
      "(7_w,14)-aCMA-ES (mu_w=4.3,w_1=36%) in dimension 10 (seed=420470, Tue Dec  6 19:02:51 2022)\n",
      "(7_w,14)-aCMA-ES (mu_w=4.3,w_1=36%) in dimension 10 (seed=473272, Tue Dec  6 19:02:51 2022)\n",
      "(7_w,14)-aCMA-ES (mu_w=4.3,w_1=36%) in dimension 10 (seed=483687, Tue Dec  6 19:02:51 2022)\n",
      "(7_w,14)-aCMA-ES (mu_w=4.3,w_1=36%) in dimension 10 (seed=457726, Tue Dec  6 19:02:51 2022)\n",
      "(7_w,14)-aCMA-ES (mu_w=4.3,w_1=36%) in dimension 10 (seed=333689, Tue Dec  6 19:02:52 2022)\n",
      "(7_w,14)-aCMA-ES (mu_w=4.3,w_1=36%) in dimension 10 (seed=355020, Tue Dec  6 19:02:52 2022)\n",
      "(7_w,14)-aCMA-ES (mu_w=4.3,w_1=36%) in dimension 10 (seed=392115, Tue Dec  6 19:02:52 2022)\n"
     ]
    }
   ],
   "source": [
    "# cma\n",
    "from cma import CMAEvolutionStrategy\n",
    "variance = 0.01\n",
    "query_num = 14\n",
    "\n",
    "total_es_hist = []\n",
    "for _ in range(reps):\n",
    "    es = CMAEvolutionStrategy(list(initial), variance, {'popsize':query_num})\n",
    "    es_hist= []\n",
    "    for _ in range(total_steps):\n",
    "        solutions = es.ask()\n",
    "        values = [objective.value_oracle(np.array(x)) for x in solutions]\n",
    "        es_hist.append(np.min(values))\n",
    "        es.tell(solutions, values)\n",
    "    total_es_hist.append(es_hist)"
   ]
  },
  {
   "cell_type": "code",
   "execution_count": 8,
   "metadata": {},
   "outputs": [],
   "source": [
    "# pure comparison-based opt\n",
    "\n",
    "def grad_est_from_compare(query_list,query_values,sparsity = 10,mu = 0.1):\n",
    "    Z = [qx-query_list[0] for qx in query_list[1:]]\n",
    "    y = [np.sign(qv - query_values[0]) for qv in query_values[1:]]\n",
    "#     zero_index = list(query_rank).index(0)\n",
    "#     for ii, x0 in enumerate(query_rank):\n",
    "#         if ii < zero_index:\n",
    "#             Z.append(query_list[0]-query_list[x0])\n",
    "#             y.append(1)\n",
    "#         elif ii > zero_index:\n",
    "#             Z.append(query_list[x0]-query_list[0])\n",
    "#             y.append(1)\n",
    "#         else:\n",
    "#             continue\n",
    "    \n",
    "\n",
    "    y=np.array(y)\n",
    "    Z=np.array(Z)\n",
    "    #print(Z.shape)\n",
    "#     grad_est = Solve1BitCS(y,Z,Z.shape[0],Z.shape[1],sparsity)\n",
    "    grad_est = np.matmul(y.reshape(1,-1),Z).flatten()\n",
    "    return grad_est\n",
    "\n",
    "total_zo_comp_hist = []\n",
    "zo_comp_grad_hist = []\n",
    "line_search = 4\n",
    "for _ in range(reps):\n",
    "    x = initial.copy()\n",
    "    cur_obj = objective.value_oracle(x)\n",
    "    query_num = 10\n",
    "    mu = 0.1\n",
    "    sparsity =10000\n",
    "    lr = 1\n",
    "    zo_comp_hist= []\n",
    "\n",
    "    for _ in range(total_steps):\n",
    "        query_list = [x]\n",
    "        for _ in range(query_num):\n",
    "            random_d = np.random.randn(objective.dim)\n",
    "            random_d /= np.linalg.norm(random_d)\n",
    "            query_list.append(x+mu * random_d)\n",
    "        query_values= [objective.value_oracle(qx) for qx in  query_list]\n",
    "        grad_est = grad_est_from_compare(query_list,query_values,sparsity,mu)\n",
    "        \n",
    "        true_grad = objective.gradient_oracle(x)\n",
    "        true_grad /= np.linalg.norm(true_grad)\n",
    "        zo_comp_grad_hist.append(np.dot(grad_est,true_grad))\n",
    "        \n",
    "        if line_search > 0:\n",
    "            line_search_candidates = [x - lr * scale * grad_est for scale in lr / np.power(2, np.arange(line_search))]\n",
    "            line_search_values = [objective.value_oracle(xc) for xc in line_search_candidates]\n",
    "            x = line_search_candidates[np.argmin(line_search_values)]\n",
    "        else:\n",
    "            x = x - lr * grad_est\n",
    "        cur_obj = objective.value_oracle(x)\n",
    "        zo_comp_hist.append(cur_obj)\n",
    "    total_zo_comp_hist.append(zo_comp_hist)"
   ]
  },
  {
   "cell_type": "code",
   "execution_count": 9,
   "metadata": {},
   "outputs": [],
   "source": [
    "# pure comparison-based opt - noise\n",
    "\n",
    "def grad_est_from_compare(query_list,query_values,sparsity = 10,mu = 0.1):\n",
    "    ns = 0\n",
    "    Z = [qx-query_list[0] for qx in query_list[1:]]\n",
    "    y = [np.sign(qv - query_values[0] + ns * np.random.rand()) for qv in query_values[1:]]\n",
    "#     zero_index = list(query_rank).index(0)\n",
    "#     for ii, x0 in enumerate(query_rank):\n",
    "#         if ii < zero_index:\n",
    "#             Z.append(query_list[0]-query_list[x0])\n",
    "#             y.append(1)\n",
    "#         elif ii > zero_index:\n",
    "#             Z.append(query_list[x0]-query_list[0])\n",
    "#             y.append(1)\n",
    "#         else:\n",
    "#             continue\n",
    "    \n",
    "\n",
    "    y=np.array(y)\n",
    "    Z=np.array(Z)\n",
    "    #print(Z.shape)\n",
    "#     grad_est = Solve1BitCS(y,Z,Z.shape[0],Z.shape[1],sparsity)\n",
    "    grad_est = np.matmul(y.reshape(1,-1),Z).flatten()\n",
    "    return grad_est/np.linalg.norm(grad_est)\n",
    "\n",
    "total_zo_comp_ns_hist = []\n",
    "zo_comp_ns_grad_hist = []\n",
    "line_search = 4\n",
    "for _ in range(reps):\n",
    "    x = initial.copy()\n",
    "    cur_obj = objective.value_oracle(x)\n",
    "    query_num = 10\n",
    "    mu = 0.1\n",
    "    sparsity =10000\n",
    "    lr = 1\n",
    "    zo_comp_ns_hist= []\n",
    "\n",
    "    for _ in range(total_steps):\n",
    "        query_list = [x]\n",
    "        for _ in range(query_num):\n",
    "            random_d = np.random.randn(objective.dim)\n",
    "            random_d /= np.linalg.norm(random_d)\n",
    "            query_list.append(x+mu * random_d)\n",
    "        query_values= [objective.value_oracle(qx) + np.random.randn()*1 for qx in  query_list]\n",
    "        grad_est = grad_est_from_compare(query_list,query_values,sparsity,mu)\n",
    "        \n",
    "        true_grad = objective.gradient_oracle(x)\n",
    "        true_grad /= np.linalg.norm(true_grad)\n",
    "        zo_comp_ns_grad_hist.append(np.dot(grad_est,true_grad))\n",
    "        \n",
    "        if line_search > 0:\n",
    "            line_search_candidates = [x - lr * scale * grad_est for scale in lr / np.power(2, np.arange(line_search))]\n",
    "            line_search_values = [objective.value_oracle(xc) for xc in line_search_candidates]\n",
    "            x = line_search_candidates[np.argmin(line_search_values)]\n",
    "        else:\n",
    "            x = x - lr * grad_est\n",
    "        cur_obj = objective.value_oracle(x)\n",
    "        zo_comp_ns_hist.append(cur_obj)\n",
    "    total_zo_comp_ns_hist.append(zo_comp_ns_hist)"
   ]
  },
  {
   "cell_type": "code",
   "execution_count": 126,
   "metadata": {},
   "outputs": [],
   "source": [
    "# es-like direction\n",
    "def grad_est_from_rank_es_like(query_list,query_rank,sparsity = 10,mu = 0.1,with_order = True):\n",
    "    relative_rank = np.array([np.where(query_rank==ii)[0][0]+1 for ii in range(len(query_rank))])\n",
    "    weight = relative_rank - relative_rank[0]\n",
    "    \n",
    "    grad_est = np.sum([(query_list[ii]-query_list[0])*weight[ii] for ii in range(1,len(query_rank))])\n",
    "    \n",
    "    return grad_est/np.linalg.norm(grad_est)\n",
    "\n",
    "total_zo_rank_es_like_hist = []\n",
    "\n",
    "zo_rank_grad_es_like_hist = []\n",
    "\n",
    "for _ in range(reps):\n",
    "    x = initial.copy()\n",
    "    cur_obj = objective.value_oracle(x)\n",
    "    query_num = 10\n",
    "    top = query_num+1\n",
    "    mu = 0.1\n",
    "    sparsity =10000\n",
    "    lr = 1\n",
    "    zo_rank_es_like_hist= []\n",
    "\n",
    "    with_order = True\n",
    "\n",
    "    for _ in range(total_steps):\n",
    "        query_list = [x]\n",
    "        for _ in range(query_num):\n",
    "            random_d = np.random.randn(objective.dim)\n",
    "            random_d /= np.linalg.norm(random_d)\n",
    "            query_list.append(x+mu * random_d)\n",
    "        query_rank = objective.rank_oracle(query_list, top)\n",
    "        grad_est = grad_est_from_rank_es_like(query_list,query_rank,sparsity,mu,with_order)\n",
    "        \n",
    "        true_grad = objective.gradient_oracle(query_list[query_rank[0]])\n",
    "        true_grad /= np.linalg.norm(true_grad)\n",
    "        zo_rank_grad_es_like_hist.append(np.dot(grad_est,true_grad))\n",
    "        \n",
    "        \n",
    "        if line_search > 0:\n",
    "            line_search_candidates = [query_list[query_rank[0]] - lr * scale * grad_est for scale in lr / np.power(2, np.arange(line_search))]\n",
    "            x = line_search_candidates[objective.rank_oracle(line_search_candidates)[0]]\n",
    "        else:\n",
    "            x = query_list[query_rank[0]] - lr * grad_est\n",
    "        cur_obj = objective.value_oracle(x)\n",
    "        zo_rank_es_like_hist.append(cur_obj)\n",
    "    total_zo_rank_es_like_hist.append(zo_rank_es_like_hist)"
   ]
  },
  {
   "cell_type": "code",
   "execution_count": 114,
   "metadata": {},
   "outputs": [
    {
     "data": {
      "text/plain": [
       "array([1, 0, 4, 2, 5, 3])"
      ]
     },
     "execution_count": 114,
     "metadata": {},
     "output_type": "execute_result"
    }
   ],
   "source": [
    "query_rank"
   ]
  },
  {
   "cell_type": "code",
   "execution_count": 120,
   "metadata": {},
   "outputs": [
    {
     "data": {
      "text/plain": [
       "array([2, 1, 4, 6, 3, 5])"
      ]
     },
     "execution_count": 120,
     "metadata": {},
     "output_type": "execute_result"
    }
   ],
   "source": []
  },
  {
   "cell_type": "code",
   "execution_count": 128,
   "metadata": {},
   "outputs": [
    {
     "data": {
      "text/plain": [
       "<matplotlib.legend.Legend at 0x7f403faf3cd0>"
      ]
     },
     "execution_count": 128,
     "metadata": {},
     "output_type": "execute_result"
    },
    {
     "data": {
      "image/png": "[encoded data removed]",
      "text/plain": [
       "<Figure size 576x432 with 1 Axes>"
      ]
     },
     "metadata": {
      "needs_background": "light"
     },
     "output_type": "display_data"
    }
   ],
   "source": [
    "import matplotlib.pyplot as plt\n",
    "plt.figure(figsize=(8,6))\n",
    "\n",
    "total_zo_hist = np.array(total_zo_hist)\n",
    "total_zo_mean = total_zo_hist.mean(0)\n",
    "total_zo_std = total_zo_hist.std(0)\n",
    "plt.plot(total_zo_mean,\"--\",label = \"zo\")\n",
    "plt.fill_between(np.arange(total_steps),total_zo_mean - total_zo_std,total_zo_mean + total_zo_std, alpha=0.5)\n",
    "\n",
    "total_zo_rank_hist = np.array(total_zo_rank_hist)\n",
    "total_zo_rank_mean = total_zo_rank_hist.mean(0)\n",
    "total_zo_rank_std = total_zo_rank_hist.std(0)\n",
    "plt.plot(total_zo_rank_mean,\"--\", label = \"zo-rank(m=10)\")\n",
    "plt.fill_between(np.arange(total_steps),total_zo_rank_mean - total_zo_rank_std,total_zo_rank_mean + total_zo_rank_std, alpha=0.5)\n",
    "\n",
    "total_zo_rank_es_like_hist = np.array(total_zo_rank_es_like_hist)\n",
    "total_zo_rank_es_like_mean = total_zo_rank_es_like_hist.mean(0)\n",
    "total_zo_rank_es_like_std = total_zo_rank_es_like_hist.std(0)\n",
    "plt.plot(total_zo_rank_es_like_mean,\"--\", label = \"zo-rank-es-like\")\n",
    "plt.fill_between(np.arange(total_steps),total_zo_rank_es_like_mean - total_zo_rank_es_like_std,total_zo_rank_es_like_mean + total_zo_rank_es_like_std, alpha=0.5)\n",
    "\n",
    "# total_zo_comp_hist = np.array(total_zo_comp_hist)\n",
    "# total_zo_comp_mean = total_zo_comp_hist.mean(0)\n",
    "# total_zo_comp_std = total_zo_comp_hist.std(0)\n",
    "# plt.plot(total_zo_comp_mean, label = \"zo-comp(m=10)\")\n",
    "# plt.fill_between(np.arange(total_steps),total_zo_comp_mean - total_zo_comp_std,total_zo_comp_mean + total_zo_comp_std, alpha=0.5)\n",
    "\n",
    "# total_zo_comp_ns_hist = np.array(total_zo_comp_ns_hist)\n",
    "# total_zo_comp_ns_mean = total_zo_comp_ns_hist.mean(0)\n",
    "# total_zo_comp_ns_std = total_zo_comp_ns_hist.std(0)\n",
    "# plt.plot(total_zo_comp_ns_mean, label = \"zo-comp(ns)\")\n",
    "# plt.fill_between(np.arange(total_steps),total_zo_comp_ns_mean - total_zo_comp_ns_std,total_zo_comp_ns_mean + total_zo_comp_ns_std, alpha=0.5)\n",
    "\n",
    "# total_es_hist = np.array(total_es_hist)\n",
    "# total_es_mean = total_es_hist.mean(0)\n",
    "# total_es_std = total_es_hist.std(0)\n",
    "# plt.plot(total_es_mean, label = \"es\")\n",
    "# plt.fill_between(np.arange(total_steps),total_es_mean - total_es_std,total_es_mean + total_es_std, alpha=0.5)\n",
    "\n",
    "# total_ds_rank_hist = np.array(total_ds_rank_hist)\n",
    "# total_ds_rank_mean = total_ds_rank_hist.mean(0)\n",
    "# total_ds_rank_std = total_ds_rank_hist.std(0)\n",
    "# plt.plot(total_ds_rank_mean, label = \"direct search\")\n",
    "# plt.fill_between(np.arange(total_steps),total_ds_rank_mean - total_ds_rank_std,total_ds_rank_mean + total_ds_rank_std, alpha=0.5)\n",
    "\n",
    "total_fo_hist = np.array(total_fo_hist)\n",
    "total_fo_mean = total_fo_hist.mean(0)\n",
    "total_fo_std = total_fo_hist.std(0)\n",
    "plt.plot(fo_hist, label = \"fo\")\n",
    "plt.fill_between(np.arange(total_steps),total_fo_mean - total_fo_std,total_fo_mean + total_fo_std, alpha=0.5)\n",
    "\n",
    "plt.legend()\n",
    "#plt.title(\"m=30\")"
   ]
  },
  {
   "cell_type": "code",
   "execution_count": 75,
   "metadata": {},
   "outputs": [
    {
     "ename": "NameError",
     "evalue": "name 'zob_comp_grad_hist' is not defined",
     "output_type": "error",
     "traceback": [
      "\u001b[0;31m---------------------------------------------------------------------------\u001b[0m",
      "\u001b[0;31mNameError\u001b[0m                                 Traceback (most recent call last)",
      "\u001b[0;32m/tmp/ipykernel_24616/1669914414.py\u001b[0m in \u001b[0;36m<module>\u001b[0;34m\u001b[0m\n\u001b[1;32m      1\u001b[0m \u001b[0mplt\u001b[0m\u001b[0;34m.\u001b[0m\u001b[0mhist\u001b[0m\u001b[0;34m(\u001b[0m\u001b[0mzo_rank_grad_hist\u001b[0m\u001b[0;34m,\u001b[0m\u001b[0mlabel\u001b[0m\u001b[0;34m=\u001b[0m\u001b[0;34m\"rank\"\u001b[0m\u001b[0;34m,\u001b[0m\u001b[0malpha\u001b[0m\u001b[0;34m=\u001b[0m\u001b[0;36m0.5\u001b[0m\u001b[0;34m)\u001b[0m\u001b[0;34m\u001b[0m\u001b[0;34m\u001b[0m\u001b[0m\n\u001b[0;32m----> 2\u001b[0;31m \u001b[0mplt\u001b[0m\u001b[0;34m.\u001b[0m\u001b[0mhist\u001b[0m\u001b[0;34m(\u001b[0m\u001b[0mzob_comp_grad_hist\u001b[0m\u001b[0;34m,\u001b[0m\u001b[0mlabel\u001b[0m\u001b[0;34m=\u001b[0m\u001b[0;34m\"comp\"\u001b[0m\u001b[0;34m,\u001b[0m\u001b[0malpha\u001b[0m\u001b[0;34m=\u001b[0m\u001b[0;36m0.5\u001b[0m\u001b[0;34m)\u001b[0m\u001b[0;34m\u001b[0m\u001b[0;34m\u001b[0m\u001b[0m\n\u001b[0m\u001b[1;32m      3\u001b[0m \u001b[0mplt\u001b[0m\u001b[0;34m.\u001b[0m\u001b[0mlegend\u001b[0m\u001b[0;34m(\u001b[0m\u001b[0;34m)\u001b[0m\u001b[0;34m\u001b[0m\u001b[0;34m\u001b[0m\u001b[0m\n",
      "\u001b[0;31mNameError\u001b[0m: name 'zob_comp_grad_hist' is not defined"
     ]
    },
    {
     "data": {
      "image/png": "[encoded data removed]",
      "text/plain": [
       "<Figure size 432x288 with 1 Axes>"
      ]
     },
     "metadata": {
      "needs_background": "light"
     },
     "output_type": "display_data"
    }
   ],
   "source": [
    "plt.hist(zo_rank_grad_hist,label=\"rank\",alpha=0.5)\n",
    "plt.hist(zob_comp_grad_hist,label=\"comp\",alpha=0.5)\n",
    "plt.legend()"
   ]
  },
  {
   "cell_type": "markdown",
   "metadata": {},
   "source": [
    "# unbiased?"
   ]
  },
  {
   "cell_type": "code",
   "execution_count": 322,
   "metadata": {},
   "outputs": [],
   "source": [
    "dim=10\n",
    "m=10\n",
    "x = np.random.rand(dim,1) + 2\n",
    "x = x/np.linalg.norm(x)"
   ]
  },
  {
   "cell_type": "code",
   "execution_count": 53,
   "metadata": {},
   "outputs": [
    {
     "ename": "NameError",
     "evalue": "name 'm' is not defined",
     "output_type": "error",
     "traceback": [
      "\u001b[0;31m---------------------------------------------------------------------------\u001b[0m",
      "\u001b[0;31mNameError\u001b[0m                                 Traceback (most recent call last)",
      "\u001b[0;32m/tmp/ipykernel_24616/754883177.py\u001b[0m in \u001b[0;36m<module>\u001b[0;34m\u001b[0m\n\u001b[1;32m      2\u001b[0m \u001b[0mre_x\u001b[0m \u001b[0;34m=\u001b[0m \u001b[0;34m[\u001b[0m\u001b[0;34m]\u001b[0m\u001b[0;34m\u001b[0m\u001b[0;34m\u001b[0m\u001b[0m\n\u001b[1;32m      3\u001b[0m \u001b[0;32mfor\u001b[0m \u001b[0m_\u001b[0m \u001b[0;32min\u001b[0m \u001b[0mrange\u001b[0m\u001b[0;34m(\u001b[0m\u001b[0mreps\u001b[0m\u001b[0;34m)\u001b[0m\u001b[0;34m:\u001b[0m\u001b[0;34m\u001b[0m\u001b[0;34m\u001b[0m\u001b[0m\n\u001b[0;32m----> 4\u001b[0;31m     \u001b[0mZ\u001b[0m \u001b[0;34m=\u001b[0m \u001b[0mnp\u001b[0m\u001b[0;34m.\u001b[0m\u001b[0mrandom\u001b[0m\u001b[0;34m.\u001b[0m\u001b[0mrandn\u001b[0m\u001b[0;34m(\u001b[0m\u001b[0mm\u001b[0m\u001b[0;34m,\u001b[0m\u001b[0mdim\u001b[0m\u001b[0;34m)\u001b[0m\u001b[0;34m\u001b[0m\u001b[0;34m\u001b[0m\u001b[0m\n\u001b[0m\u001b[1;32m      5\u001b[0m     \u001b[0mZ\u001b[0m \u001b[0;34m/=\u001b[0m \u001b[0mnp\u001b[0m\u001b[0;34m.\u001b[0m\u001b[0mlinalg\u001b[0m\u001b[0;34m.\u001b[0m\u001b[0mnorm\u001b[0m\u001b[0;34m(\u001b[0m\u001b[0mZ\u001b[0m\u001b[0;34m,\u001b[0m\u001b[0maxis\u001b[0m\u001b[0;34m=\u001b[0m\u001b[0;36m1\u001b[0m\u001b[0;34m)\u001b[0m\u001b[0;34m.\u001b[0m\u001b[0mreshape\u001b[0m\u001b[0;34m(\u001b[0m\u001b[0mm\u001b[0m\u001b[0;34m,\u001b[0m\u001b[0;34m-\u001b[0m\u001b[0;36m1\u001b[0m\u001b[0;34m)\u001b[0m\u001b[0;34m\u001b[0m\u001b[0;34m\u001b[0m\u001b[0m\n\u001b[1;32m      6\u001b[0m     \u001b[0my\u001b[0m \u001b[0;34m=\u001b[0m \u001b[0mnp\u001b[0m\u001b[0;34m.\u001b[0m\u001b[0msign\u001b[0m\u001b[0;34m(\u001b[0m\u001b[0mnp\u001b[0m\u001b[0;34m.\u001b[0m\u001b[0mmatmul\u001b[0m\u001b[0;34m(\u001b[0m\u001b[0mZ\u001b[0m\u001b[0;34m,\u001b[0m\u001b[0mx\u001b[0m\u001b[0;34m)\u001b[0m\u001b[0;34m.\u001b[0m\u001b[0mflatten\u001b[0m\u001b[0;34m(\u001b[0m\u001b[0;34m)\u001b[0m\u001b[0;34m)\u001b[0m\u001b[0;34m\u001b[0m\u001b[0;34m\u001b[0m\u001b[0m\n",
      "\u001b[0;31mNameError\u001b[0m: name 'm' is not defined"
     ]
    }
   ],
   "source": [
    "\n",
    "reps = 10000\n",
    "re_x = []\n",
    "for _ in range(reps):\n",
    "    Z = np.random.randn(m,dim)\n",
    "    Z /= np.linalg.norm(Z,axis=1).reshape(m,-1)\n",
    "    y = np.sign(np.matmul(Z,x).flatten())\n",
    "\n",
    "    \n",
    "    now_rex = np.matmul(y.reshape(1,-1),Z).flatten()\n",
    "    re_x.append(now_rex/np.linalg.norm(now_rex))\n",
    "    #re_x.append(Solve1BitCS(y,Z,m,dim,10000))\n",
    "#print(np.linalg.norm(x.flatten()-re_x/reps))\n",
    "\n",
    "mean_re_x = np.zeros(dim)\n",
    "results = []\n",
    "for n in range(1,reps+1):\n",
    "    mean_re_x += re_x[n-1] \n",
    "    if n in [1,10,100,1000,10000]:\n",
    "        test_x = mean_re_x/n\n",
    "        test_x /= np.linalg.norm(test_x)\n",
    "        results.append(np.linalg.norm(x.flatten()-test_x))\n",
    "        \n",
    "plt.plot(results)\n",
    "plt.plot(np.zeros_like(results))\n",
    "plt.title(\"m=1000\")\n",
    "plt.xlabel(\"n\")\n",
    "plt.ylabel(r\"$||x-\\sum_{i=1}^n \\frac{\\hat x_i}{n}||$\")\n",
    "plt.xticks([0,1,2,3,4],[1,10,100,1000,10000])"
   ]
  },
  {
   "cell_type": "code",
   "execution_count": 320,
   "metadata": {},
   "outputs": [
    {
     "data": {
      "text/plain": [
       "([<matplotlib.axis.XTick at 0x7fb9c3e86070>,\n",
       "  <matplotlib.axis.XTick at 0x7fb9c3e86ee0>,\n",
       "  <matplotlib.axis.XTick at 0x7fb9c3ea8f70>,\n",
       "  <matplotlib.axis.XTick at 0x7fb9c37317c0>,\n",
       "  <matplotlib.axis.XTick at 0x7fb9c3731310>,\n",
       "  <matplotlib.axis.XTick at 0x7fb9c371d8e0>],\n",
       " [Text(0, 0, '1'),\n",
       "  Text(1, 0, '10'),\n",
       "  Text(2, 0, '100'),\n",
       "  Text(3, 0, '1000'),\n",
       "  Text(4, 0, '10000'),\n",
       "  Text(5, 0, '100000')])"
      ]
     },
     "execution_count": 320,
     "metadata": {},
     "output_type": "execute_result"
    },
    {
     "data": {
      "image/png": "[encoded data removed]",
      "text/plain": [
       "<Figure size 432x288 with 1 Axes>"
      ]
     },
     "metadata": {
      "needs_background": "light"
     },
     "output_type": "display_data"
    }
   ],
   "source": [
    "dim=10\n",
    "m=10\n",
    "x = np.random.rand(dim,1) + 2\n",
    "x = x/np.linalg.norm(x)\n",
    "reps = 100000\n",
    "re_x = []\n",
    "topk=10\n",
    "for _ in range(reps):\n",
    "    Z = np.random.randn(m,dim)\n",
    "    Z /= np.linalg.norm(Z,axis=1).reshape(m,-1)\n",
    "    Z = np.concatenate([Z,np.zeros((1,dim))],0)\n",
    "    ry = np.matmul(Z,x).flatten()\n",
    "    y_rank = np.argsort(ry)[:topk]\n",
    "    \n",
    "    \n",
    "    Zy = []\n",
    "    y = []\n",
    "    for ii, x0 in enumerate(y_rank[:-1]):\n",
    "            for jj, x1 in enumerate(y_rank[(ii+1):]):\n",
    "                now_z = Z[x1]-Z[x0]\n",
    "                Zy.append(now_z)\n",
    "                y.append(1)\n",
    "                \n",
    "    if len(Z) > len(y_rank):\n",
    "        for x0, qx0 in enumerate(Z):\n",
    "            if x0 not in y_rank:\n",
    "                for top_x0 in y_rank:\n",
    "                    now_z = qx0 - Z[top_x0]\n",
    "                    Zy.append(now_z)\n",
    "                    y.append(1)\n",
    "    \n",
    "    y=np.array(y)\n",
    "    Zy=np.array(Zy)\n",
    "    \n",
    "    now_rex = np.matmul(y.reshape(1,-1),Zy).flatten()\n",
    "    re_x.append(now_rex/np.linalg.norm(now_rex))\n",
    "    #re_x.append(Solve1BitCS(y,Z,m,dim,10000))\n",
    "#print(np.linalg.norm(x.flatten()-re_x/reps))\n",
    "\n",
    "mean_re_x = np.zeros(dim)\n",
    "results_rank = []\n",
    "for n in range(1,reps+1):\n",
    "    mean_re_x += re_x[n-1] \n",
    "    if n in [1,10,100,1000,10000,100000]:\n",
    "        test_x = mean_re_x/n\n",
    "        test_x /= np.linalg.norm(test_x)\n",
    "        results_rank.append(np.linalg.norm(x.flatten()-test_x))\n",
    "        \n",
    "#plt.plot(results,label=\"w/o rank\")\n",
    "plt.plot(results_rank,label=\"top-{}\".format(topk))\n",
    "plt.plot(np.zeros_like(results_rank))\n",
    "plt.title(\"m=10\")\n",
    "plt.xlabel(\"n\")\n",
    "plt.legend()\n",
    "plt.ylabel(r\"$||x-\\sum_{i=1}^n \\frac{\\hat x_i}{n}||$\")\n",
    "plt.xticks([0,1,2,3,4,5],[1,10,100,1000,10000,100000])"
   ]
  },
  {
   "cell_type": "code",
   "execution_count": 245,
   "metadata": {},
   "outputs": [],
   "source": [
    "x=initial"
   ]
  },
  {
   "cell_type": "code",
   "execution_count": 287,
   "metadata": {},
   "outputs": [
    {
     "data": {
      "text/plain": [
       "array([47.47303132, 83.7356713 ])"
      ]
     },
     "execution_count": 287,
     "metadata": {},
     "output_type": "execute_result"
    }
   ],
   "source": [
    "x"
   ]
  },
  {
   "cell_type": "code",
   "execution_count": 41,
   "metadata": {},
   "outputs": [],
   "source": [
    "grad_est = np.zeros_like(x)\n",
    "grad_est_rank  = np.zeros_like(x)\n",
    "grad_est_comp = np.zeros_like(x)\n",
    "mu = 0.01\n",
    "for _ in range(10000):\n",
    "    query_list = [x]\n",
    "    query_num = 10\n",
    "    temp_grad = np.zeros_like(x)\n",
    "    for _ in range(query_num):\n",
    "        random_d = np.random.randn(objective.dim)\n",
    "        random_d /= np.linalg.norm(random_d)\n",
    "        query_list.append(x+mu * random_d)\n",
    "        temp_grad += (objective.value_oracle(x + mu * random_d) - objective.value_oracle(x)) * random_d \n",
    "    grad_est += temp_grad / np.linalg.norm(temp_grad)\n",
    "    query_values= [objective.value_oracle(qx) for qx in  query_list]\n",
    "    query_rank = objective.rank_oracle(query_list[1:], len(query_list)+1)\n",
    "    grad_est_rank += grad_est_from_rank(query_list[1:],query_rank,sparsity,mu,with_order) \n",
    "    grad_est_comp += grad_est_from_compare(query_list,query_values,sparsity,mu) \n",
    "\n"
   ]
  },
  {
   "cell_type": "code",
   "execution_count": 42,
   "metadata": {},
   "outputs": [
    {
     "data": {
      "text/plain": [
       "array([-0.8508038 ,  0.52548348])"
      ]
     },
     "execution_count": 42,
     "metadata": {},
     "output_type": "execute_result"
    }
   ],
   "source": [
    "grad_est/np.linalg.norm(grad_est)"
   ]
  },
  {
   "cell_type": "code",
   "execution_count": 43,
   "metadata": {},
   "outputs": [
    {
     "data": {
      "text/plain": [
       "array([-0.85017721,  0.52649664])"
      ]
     },
     "execution_count": 43,
     "metadata": {},
     "output_type": "execute_result"
    }
   ],
   "source": [
    "grad_est_comp /np.linalg.norm(grad_est_comp)"
   ]
  },
  {
   "cell_type": "code",
   "execution_count": 44,
   "metadata": {},
   "outputs": [
    {
     "data": {
      "text/plain": [
       "array([-0.8519216 ,  0.52366935])"
      ]
     },
     "execution_count": 44,
     "metadata": {},
     "output_type": "execute_result"
    }
   ],
   "source": [
    "grad_est_rank /np.linalg.norm(grad_est_rank)"
   ]
  },
  {
   "cell_type": "code",
   "execution_count": 45,
   "metadata": {},
   "outputs": [
    {
     "data": {
      "text/plain": [
       "array([-0.85029316,  0.52630936])"
      ]
     },
     "execution_count": 45,
     "metadata": {},
     "output_type": "execute_result"
    }
   ],
   "source": [
    "objective.gradient_oracle(x)/np.linalg.norm(objective.gradient_oracle(x))"
   ]
  }
 ],
 "metadata": {
  "kernelspec": {
   "display_name": "gradattack",
   "language": "python",
   "name": "gradattack"
  },
  "language_info": {
   "codemirror_mode": {
    "name": "ipython",
    "version": 3
   },
   "file_extension": ".py",
   "mimetype": "text/x-python",
   "name": "python",
   "nbconvert_exporter": "python",
   "pygments_lexer": "ipython3",
   "version": "3.8.12"
  }
 },
 "nbformat": 4,
 "nbformat_minor": 4
}
